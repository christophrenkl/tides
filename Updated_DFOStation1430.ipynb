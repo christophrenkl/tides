{
 "cells": [
  {
   "cell_type": "code",
   "execution_count": 5,
   "metadata": {},
   "outputs": [],
   "source": [
    "import matplotlib.dates as mdates\n",
    "import matplotlib.pyplot as plt\n",
    "import numpy as np\n",
    "import pandas as pd\n",
    "import seaborn as sns\n",
    "\n",
    "from pathlib import Path\n",
    "from utide import solve\n",
    "\n",
    "# latitude of tide gauge (needed for tidal analysis)\n",
    "lat = 56.550"
   ]
  },
  {
   "cell_type": "markdown",
   "metadata": {},
   "source": [
    "### Data Source\n",
    "\n",
    "* Raw, hourly sea level data for Nain (Station #1430) downloaded from [DFO](https://www.isdm-gdsi.gc.ca/isdm-gdsi/twl-mne/inventory-inventaire/sd-ds-eng.asp?no=1430&user=isdm-gdsi&region=ATL). This dataset goes from 1963-2021."
   ]
  },
  {
   "cell_type": "code",
   "execution_count": 6,
   "metadata": {},
   "outputs": [
    {
     "data": {
      "text/html": [
       "<div>\n",
       "<style scoped>\n",
       "    .dataframe tbody tr th:only-of-type {\n",
       "        vertical-align: middle;\n",
       "    }\n",
       "\n",
       "    .dataframe tbody tr th {\n",
       "        vertical-align: top;\n",
       "    }\n",
       "\n",
       "    .dataframe thead th {\n",
       "        text-align: right;\n",
       "    }\n",
       "</style>\n",
       "<table border=\"1\" class=\"dataframe\">\n",
       "  <thead>\n",
       "    <tr style=\"text-align: right;\">\n",
       "      <th></th>\n",
       "      <th>SLEV(metres)</th>\n",
       "    </tr>\n",
       "    <tr>\n",
       "      <th>time</th>\n",
       "      <th></th>\n",
       "    </tr>\n",
       "  </thead>\n",
       "  <tbody>\n",
       "    <tr>\n",
       "      <td>1963-10-17 05:00:00</td>\n",
       "      <td>0.53</td>\n",
       "    </tr>\n",
       "    <tr>\n",
       "      <td>1963-10-17 06:00:00</td>\n",
       "      <td>0.65</td>\n",
       "    </tr>\n",
       "    <tr>\n",
       "      <td>1963-10-17 07:00:00</td>\n",
       "      <td>0.97</td>\n",
       "    </tr>\n",
       "    <tr>\n",
       "      <td>1963-10-17 08:00:00</td>\n",
       "      <td>1.38</td>\n",
       "    </tr>\n",
       "    <tr>\n",
       "      <td>1963-10-17 09:00:00</td>\n",
       "      <td>1.87</td>\n",
       "    </tr>\n",
       "    <tr>\n",
       "      <td>...</td>\n",
       "      <td>...</td>\n",
       "    </tr>\n",
       "    <tr>\n",
       "      <td>2021-12-31 00:00:00</td>\n",
       "      <td>0.99</td>\n",
       "    </tr>\n",
       "    <tr>\n",
       "      <td>2021-12-31 01:00:00</td>\n",
       "      <td>0.71</td>\n",
       "    </tr>\n",
       "    <tr>\n",
       "      <td>2021-12-31 02:00:00</td>\n",
       "      <td>0.59</td>\n",
       "    </tr>\n",
       "    <tr>\n",
       "      <td>2021-12-31 03:00:00</td>\n",
       "      <td>0.68</td>\n",
       "    </tr>\n",
       "    <tr>\n",
       "      <td>2021-12-31 04:00:00</td>\n",
       "      <td>0.92</td>\n",
       "    </tr>\n",
       "  </tbody>\n",
       "</table>\n",
       "<p>256677 rows × 1 columns</p>\n",
       "</div>"
      ],
      "text/plain": [
       "                     SLEV(metres)\n",
       "time                             \n",
       "1963-10-17 05:00:00          0.53\n",
       "1963-10-17 06:00:00          0.65\n",
       "1963-10-17 07:00:00          0.97\n",
       "1963-10-17 08:00:00          1.38\n",
       "1963-10-17 09:00:00          1.87\n",
       "...                           ...\n",
       "2021-12-31 00:00:00          0.99\n",
       "2021-12-31 01:00:00          0.71\n",
       "2021-12-31 02:00:00          0.59\n",
       "2021-12-31 03:00:00          0.68\n",
       "2021-12-31 04:00:00          0.92\n",
       "\n",
       "[256677 rows x 1 columns]"
      ]
     },
     "execution_count": 6,
     "metadata": {},
     "output_type": "execute_result"
    }
   ],
   "source": [
    "# read data into `pandas.DataFrame`\n",
    "df = pd.read_csv(\n",
    "    'DFO1430_full.csv',                         # Data downloaded from DFO 1430\n",
    "    header=7,                                   # Seven line header\n",
    "    parse_dates=[['Obs_date', 'Obs_time']],     # Identify date & time columns\n",
    ")\n",
    "\n",
    "# convert columns with date/time information to datetime object\n",
    "df[\"time\"] = pd.to_datetime(df[\"Obs_date_Obs_time\"])\n",
    "\n",
    "# remove the columns with date/time information\n",
    "df = df.drop([\"Obs_date_Obs_time\"], axis=1)\n",
    "\n",
    "# use the datetime object as index\n",
    "df = df.set_index(\"time\")\n",
    "df"
   ]
  },
  {
   "cell_type": "code",
   "execution_count": 7,
   "metadata": {},
   "outputs": [
    {
     "data": {
      "text/html": [
       "<div>\n",
       "<style scoped>\n",
       "    .dataframe tbody tr th:only-of-type {\n",
       "        vertical-align: middle;\n",
       "    }\n",
       "\n",
       "    .dataframe tbody tr th {\n",
       "        vertical-align: top;\n",
       "    }\n",
       "\n",
       "    .dataframe thead th {\n",
       "        text-align: right;\n",
       "    }\n",
       "</style>\n",
       "<table border=\"1\" class=\"dataframe\">\n",
       "  <thead>\n",
       "    <tr style=\"text-align: right;\">\n",
       "      <th></th>\n",
       "      <th>SLEV(metres)</th>\n",
       "    </tr>\n",
       "  </thead>\n",
       "  <tbody>\n",
       "    <tr>\n",
       "      <td>1963-10-17 00:00:00</td>\n",
       "      <td>NaN</td>\n",
       "    </tr>\n",
       "    <tr>\n",
       "      <td>1963-10-17 01:00:00</td>\n",
       "      <td>NaN</td>\n",
       "    </tr>\n",
       "    <tr>\n",
       "      <td>1963-10-17 02:00:00</td>\n",
       "      <td>NaN</td>\n",
       "    </tr>\n",
       "    <tr>\n",
       "      <td>1963-10-17 03:00:00</td>\n",
       "      <td>NaN</td>\n",
       "    </tr>\n",
       "    <tr>\n",
       "      <td>1963-10-17 04:00:00</td>\n",
       "      <td>NaN</td>\n",
       "    </tr>\n",
       "    <tr>\n",
       "      <td>1963-10-17 05:00:00</td>\n",
       "      <td>0.53</td>\n",
       "    </tr>\n",
       "    <tr>\n",
       "      <td>1963-10-17 06:00:00</td>\n",
       "      <td>0.65</td>\n",
       "    </tr>\n",
       "    <tr>\n",
       "      <td>1963-10-17 07:00:00</td>\n",
       "      <td>0.97</td>\n",
       "    </tr>\n",
       "    <tr>\n",
       "      <td>1963-10-17 08:00:00</td>\n",
       "      <td>1.38</td>\n",
       "    </tr>\n",
       "    <tr>\n",
       "      <td>1963-10-17 09:00:00</td>\n",
       "      <td>1.87</td>\n",
       "    </tr>\n",
       "  </tbody>\n",
       "</table>\n",
       "</div>"
      ],
      "text/plain": [
       "                     SLEV(metres)\n",
       "1963-10-17 00:00:00           NaN\n",
       "1963-10-17 01:00:00           NaN\n",
       "1963-10-17 02:00:00           NaN\n",
       "1963-10-17 03:00:00           NaN\n",
       "1963-10-17 04:00:00           NaN\n",
       "1963-10-17 05:00:00          0.53\n",
       "1963-10-17 06:00:00          0.65\n",
       "1963-10-17 07:00:00          0.97\n",
       "1963-10-17 08:00:00          1.38\n",
       "1963-10-17 09:00:00          1.87"
      ]
     },
     "execution_count": 7,
     "metadata": {},
     "output_type": "execute_result"
    }
   ],
   "source": [
    "# create a new index from the date range specified\n",
    "# use hourly frequency to match the hourly gage data\n",
    "\n",
    "index = pd.date_range('1963-10-17 ', '2021-12-31', freq='H')\n",
    "\n",
    "# reassign new index to df\n",
    "df=df.reindex(index=index)\n",
    "\n",
    "# display the first 10 rows of the df\n",
    "df.head(10)"
   ]
  },
  {
   "cell_type": "markdown",
   "metadata": {},
   "source": [
    "### Figure: Raw Time Series"
   ]
  },
  {
   "cell_type": "code",
   "execution_count": 8,
   "metadata": {},
   "outputs": [
    {
     "data": {
      "text/plain": [
       "[Text(0.5, 1.0, 'Raw Hourly Sea Level Record for Nain (Source: DFO)'),\n",
       " Text(0, 0.5, 'Sea Level [m]')]"
      ]
     },
     "execution_count": 8,
     "metadata": {},
     "output_type": "execute_result"
    },
    {
     "data": {
      "image/png": "[encoded data removed]",
      "text/plain": [
       "<Figure size 1080x360 with 1 Axes>"
      ]
     },
     "metadata": {
      "needs_background": "light"
     },
     "output_type": "display_data"
    }
   ],
   "source": [
    "# create figure with one subplot axis with size 15x5 inches\n",
    "fig, ax = plt.subplots(1, 1, figsize=(15, 5))\n",
    "\n",
    "# Plot \"height\" column against index (which is the a datetime object)\n",
    "df[\"SLEV(metres)\"].plot(\n",
    "    ax=ax          # use axis `ax` created above\n",
    ")\n",
    "\n",
    "# title and axis label\n",
    "ax.set(\n",
    "    title=\"Raw Hourly Sea Level Record for Nain (Source: DFO)\",\n",
    "    ylabel=\"Sea Level [m]\"\n",
    ")"
   ]
  },
  {
   "cell_type": "markdown",
   "metadata": {},
   "source": [
    "## Tidal Analysis\n",
    "\n",
    "From [UTide GitHub page](https://github.com/wesleybowman/UTide):\n",
    "\n",
    "```\n",
    "coef = solve(time, time_series_u, time_series_v,\n",
    "             lat=30,\n",
    "             nodal=False,\n",
    "             trend=False,\n",
    "             method='ols',\n",
    "             conf_int='linear',\n",
    "             Rayleigh_min=0.95,)\n",
    "```"
   ]
  },
  {
   "cell_type": "code",
   "execution_count": 9,
   "metadata": {},
   "outputs": [],
   "source": [
    "def tidal_analysis(ser, latitude):\n",
    "    \"\"\" Wrapper function for tidal analsyis with UTide.\n",
    "\n",
    "    Parameters\n",
    "    ----------\n",
    "    ser : `pandas.Series`\n",
    "        Input sea level time seriesl.\n",
    "    lat : float\n",
    "        Latitude of tide gauge.\n",
    "\n",
    "    Returns\n",
    "    -------\n",
    "    df_out : `pandas.DataFrame\n",
    "        Tidal amplitudes and phases with confidence interval. Each row is for\n",
    "        one tidal constituent.\n",
    "    \n",
    "    \"\"\"\n",
    "        \n",
    "    # make a time variable in floating point days since a given epoch\n",
    "    time = mdates.date2num(ser.index.to_pydatetime())\n",
    "    \n",
    "    # make sure there are some sea level values\n",
    "    if not ser.isnull().all():\n",
    "    \n",
    "        # use UTide to run tidal analysis\n",
    "        coef = solve(\n",
    "            time, ser.values,   # input variables: time and sea level as numpy arrays\n",
    "            lat=latitude,       # latitude of tide gauge\n",
    "            nodal=False,       \n",
    "            trend=False,\n",
    "            method=\"ols\",\n",
    "            conf_int=\"linear\",\n",
    "            Rayleigh_min=0.95,\n",
    "            verbose=False       # no messages\n",
    "        )\n",
    "\n",
    "        # combine amplitudes and phases and their confidence interval in `numpy.Array`\n",
    "        data = np.c_[coef[\"A\"], coef[\"A_ci\"], coef[\"g\"], coef[\"g_ci\"]]\n",
    "        \n",
    "        # index\n",
    "        index = coef[\"name\"]\n",
    "    \n",
    "    # if `ser` only contains NaNs, return empty `pandas.DataFrame`\n",
    "    else:\n",
    "        data = None\n",
    "        index = None\n",
    "        \n",
    "    \n",
    "    # create output `pandas.DataFrame\n",
    "    df_out = pd.DataFrame(\n",
    "        data=data,\n",
    "        index=index,\n",
    "        columns=[\"A\", \"A_ci\", \"g\", \"g_ci\"]\n",
    "    )\n",
    "    \n",
    "    return df_out"
   ]
  },
  {
   "cell_type": "markdown",
   "metadata": {},
   "source": [
    "### Tidal Analysis\n",
    "\n",
    "Running the tidal analysis with default parameters for chunks of the gage record and plotting it binned by month."
   ]
  },
  {
   "cell_type": "code",
   "execution_count": 10,
   "metadata": {},
   "outputs": [],
   "source": [
    "result = df[\"SLEV(metres)\"].loc[\"2010\":\"2021\"].groupby(pd.Grouper(freq=\"M\")).apply(lambda x: tidal_analysis(x, lat))\n",
    "result.index.set_names([\"time\", \"constituent\"], inplace=True)\n",
    "\n",
    "ds = result.to_xarray()"
   ]
  },
  {
   "cell_type": "code",
   "execution_count": 11,
   "metadata": {},
   "outputs": [
    {
     "data": {
      "text/html": [
       "<div>\n",
       "<style scoped>\n",
       "    .dataframe tbody tr th:only-of-type {\n",
       "        vertical-align: middle;\n",
       "    }\n",
       "\n",
       "    .dataframe tbody tr th {\n",
       "        vertical-align: top;\n",
       "    }\n",
       "\n",
       "    .dataframe thead th {\n",
       "        text-align: right;\n",
       "    }\n",
       "</style>\n",
       "<table border=\"1\" class=\"dataframe\">\n",
       "  <thead>\n",
       "    <tr style=\"text-align: right;\">\n",
       "      <th></th>\n",
       "      <th></th>\n",
       "      <th>A</th>\n",
       "      <th>A_ci</th>\n",
       "      <th>g</th>\n",
       "      <th>g_ci</th>\n",
       "    </tr>\n",
       "    <tr>\n",
       "      <th>time</th>\n",
       "      <th>constituent</th>\n",
       "      <th></th>\n",
       "      <th></th>\n",
       "      <th></th>\n",
       "      <th></th>\n",
       "    </tr>\n",
       "  </thead>\n",
       "  <tbody>\n",
       "    <tr>\n",
       "      <td rowspan=\"5\" valign=\"top\">2010-01-31</td>\n",
       "      <td>M2</td>\n",
       "      <td>0.731837</td>\n",
       "      <td>0.002581</td>\n",
       "      <td>68.264652</td>\n",
       "      <td>0.201944</td>\n",
       "    </tr>\n",
       "    <tr>\n",
       "      <td>S2</td>\n",
       "      <td>0.272563</td>\n",
       "      <td>0.002580</td>\n",
       "      <td>6.787737</td>\n",
       "      <td>0.542335</td>\n",
       "    </tr>\n",
       "    <tr>\n",
       "      <td>N2</td>\n",
       "      <td>0.190982</td>\n",
       "      <td>0.002582</td>\n",
       "      <td>270.214611</td>\n",
       "      <td>0.773434</td>\n",
       "    </tr>\n",
       "    <tr>\n",
       "      <td>K1</td>\n",
       "      <td>0.120441</td>\n",
       "      <td>0.006935</td>\n",
       "      <td>188.278770</td>\n",
       "      <td>3.304408</td>\n",
       "    </tr>\n",
       "    <tr>\n",
       "      <td>O1</td>\n",
       "      <td>0.077060</td>\n",
       "      <td>0.006943</td>\n",
       "      <td>279.311057</td>\n",
       "      <td>5.158253</td>\n",
       "    </tr>\n",
       "    <tr>\n",
       "      <td>...</td>\n",
       "      <td>...</td>\n",
       "      <td>...</td>\n",
       "      <td>...</td>\n",
       "      <td>...</td>\n",
       "      <td>...</td>\n",
       "    </tr>\n",
       "    <tr>\n",
       "      <td rowspan=\"5\" valign=\"top\">2021-12-31</td>\n",
       "      <td>2SM6</td>\n",
       "      <td>0.001809</td>\n",
       "      <td>0.001781</td>\n",
       "      <td>272.010279</td>\n",
       "      <td>56.340402</td>\n",
       "    </tr>\n",
       "    <tr>\n",
       "      <td>2MK5</td>\n",
       "      <td>0.001180</td>\n",
       "      <td>0.001717</td>\n",
       "      <td>323.502916</td>\n",
       "      <td>83.375748</td>\n",
       "    </tr>\n",
       "    <tr>\n",
       "      <td>M8</td>\n",
       "      <td>0.001029</td>\n",
       "      <td>0.000530</td>\n",
       "      <td>3.891211</td>\n",
       "      <td>29.535727</td>\n",
       "    </tr>\n",
       "    <tr>\n",
       "      <td>S4</td>\n",
       "      <td>0.000902</td>\n",
       "      <td>0.002138</td>\n",
       "      <td>180.667643</td>\n",
       "      <td>136.054575</td>\n",
       "    </tr>\n",
       "    <tr>\n",
       "      <td>3MK7</td>\n",
       "      <td>0.000831</td>\n",
       "      <td>0.000836</td>\n",
       "      <td>233.812788</td>\n",
       "      <td>57.626637</td>\n",
       "    </tr>\n",
       "  </tbody>\n",
       "</table>\n",
       "<p>4569 rows × 4 columns</p>\n",
       "</div>"
      ],
      "text/plain": [
       "                               A      A_ci           g        g_ci\n",
       "time       constituent                                            \n",
       "2010-01-31 M2           0.731837  0.002581   68.264652    0.201944\n",
       "           S2           0.272563  0.002580    6.787737    0.542335\n",
       "           N2           0.190982  0.002582  270.214611    0.773434\n",
       "           K1           0.120441  0.006935  188.278770    3.304408\n",
       "           O1           0.077060  0.006943  279.311057    5.158253\n",
       "...                          ...       ...         ...         ...\n",
       "2021-12-31 2SM6         0.001809  0.001781  272.010279   56.340402\n",
       "           2MK5         0.001180  0.001717  323.502916   83.375748\n",
       "           M8           0.001029  0.000530    3.891211   29.535727\n",
       "           S4           0.000902  0.002138  180.667643  136.054575\n",
       "           3MK7         0.000831  0.000836  233.812788   57.626637\n",
       "\n",
       "[4569 rows x 4 columns]"
      ]
     },
     "execution_count": 11,
     "metadata": {},
     "output_type": "execute_result"
    }
   ],
   "source": [
    "result"
   ]
  },
  {
   "cell_type": "markdown",
   "metadata": {},
   "source": [
    "#### Figure: Monthly M2 Amplitudes 2010-2022"
   ]
  },
  {
   "cell_type": "code",
   "execution_count": 12,
   "metadata": {},
   "outputs": [
    {
     "data": {
      "text/plain": [
       "[Text(0.5, 1.0, 'Monthly M2 Tidal Amplitude'),\n",
       " Text(0, 0.5, 'M2 Tidal Amplitude [m]')]"
      ]
     },
     "execution_count": 12,
     "metadata": {},
     "output_type": "execute_result"
    },
    {
     "data": {
      "image/png": "[encoded data removed]",
      "text/plain": [
       "<Figure size 1080x360 with 1 Axes>"
      ]
     },
     "metadata": {
      "needs_background": "light"
     },
     "output_type": "display_data"
    }
   ],
   "source": [
    "# create figure with one subplot axis with size 15x5 inches\n",
    "fig, ax = plt.subplots(1, 1, figsize=(15, 5))\n",
    "\n",
    "constituent = \"M2\"\n",
    "\n",
    "# monthly tidal amplitude and confidence intervals\n",
    "ax.errorbar(\n",
    "    ds[\"time\"].values, ds[\"A\"].sel(constituent=constituent),\n",
    "    yerr=ds[\"A_ci\"].sel(constituent=constituent),\n",
    "    fmt=\"o\"\n",
    ")\n",
    "\n",
    "# title and axis label\n",
    "ax.set(\n",
    "    title=f\"Monthly {constituent} Tidal Amplitude\",\n",
    "    ylabel=f\"{constituent} Tidal Amplitude [m]\",\n",
    ")\n"
   ]
  },
  {
   "cell_type": "markdown",
   "metadata": {},
   "source": [
    "The same analysis breaks for the longer record. For example, here are the results if we extend the dates:"
   ]
  },
  {
   "cell_type": "code",
   "execution_count": 13,
   "metadata": {},
   "outputs": [
    {
     "data": {
      "text/html": [
       "<div><svg style=\"position: absolute; width: 0; height: 0; overflow: hidden\">\n",
       "<defs>\n",
       "<symbol id=\"icon-database\" viewBox=\"0 0 32 32\">\n",
       "<path d=\"M16 0c-8.837 0-16 2.239-16 5v4c0 2.761 7.163 5 16 5s16-2.239 16-5v-4c0-2.761-7.163-5-16-5z\"></path>\n",
       "<path d=\"M16 17c-8.837 0-16-2.239-16-5v6c0 2.761 7.163 5 16 5s16-2.239 16-5v-6c0 2.761-7.163 5-16 5z\"></path>\n",
       "<path d=\"M16 26c-8.837 0-16-2.239-16-5v6c0 2.761 7.163 5 16 5s16-2.239 16-5v-6c0 2.761-7.163 5-16 5z\"></path>\n",
       "</symbol>\n",
       "<symbol id=\"icon-file-text2\" viewBox=\"0 0 32 32\">\n",
       "<path d=\"M28.681 7.159c-0.694-0.947-1.662-2.053-2.724-3.116s-2.169-2.030-3.116-2.724c-1.612-1.182-2.393-1.319-2.841-1.319h-15.5c-1.378 0-2.5 1.121-2.5 2.5v27c0 1.378 1.122 2.5 2.5 2.5h23c1.378 0 2.5-1.122 2.5-2.5v-19.5c0-0.448-0.137-1.23-1.319-2.841zM24.543 5.457c0.959 0.959 1.712 1.825 2.268 2.543h-4.811v-4.811c0.718 0.556 1.584 1.309 2.543 2.268zM28 29.5c0 0.271-0.229 0.5-0.5 0.5h-23c-0.271 0-0.5-0.229-0.5-0.5v-27c0-0.271 0.229-0.5 0.5-0.5 0 0 15.499-0 15.5 0v7c0 0.552 0.448 1 1 1h7v19.5z\"></path>\n",
       "<path d=\"M23 26h-14c-0.552 0-1-0.448-1-1s0.448-1 1-1h14c0.552 0 1 0.448 1 1s-0.448 1-1 1z\"></path>\n",
       "<path d=\"M23 22h-14c-0.552 0-1-0.448-1-1s0.448-1 1-1h14c0.552 0 1 0.448 1 1s-0.448 1-1 1z\"></path>\n",
       "<path d=\"M23 18h-14c-0.552 0-1-0.448-1-1s0.448-1 1-1h14c0.552 0 1 0.448 1 1s-0.448 1-1 1z\"></path>\n",
       "</symbol>\n",
       "</defs>\n",
       "</svg>\n",
       "<style>/* CSS stylesheet for displaying xarray objects in jupyterlab.\n",
       " *\n",
       " */\n",
       "\n",
       ":root {\n",
       "  --xr-font-color0: var(--jp-content-font-color0, rgba(0, 0, 0, 1));\n",
       "  --xr-font-color2: var(--jp-content-font-color2, rgba(0, 0, 0, 0.54));\n",
       "  --xr-font-color3: var(--jp-content-font-color3, rgba(0, 0, 0, 0.38));\n",
       "  --xr-border-color: var(--jp-border-color2, #e0e0e0);\n",
       "  --xr-disabled-color: var(--jp-layout-color3, #bdbdbd);\n",
       "  --xr-background-color: var(--jp-layout-color0, white);\n",
       "  --xr-background-color-row-even: var(--jp-layout-color1, white);\n",
       "  --xr-background-color-row-odd: var(--jp-layout-color2, #eeeeee);\n",
       "}\n",
       "\n",
       "html[theme=dark],\n",
       "body.vscode-dark {\n",
       "  --xr-font-color0: rgba(255, 255, 255, 1);\n",
       "  --xr-font-color2: rgba(255, 255, 255, 0.54);\n",
       "  --xr-font-color3: rgba(255, 255, 255, 0.38);\n",
       "  --xr-border-color: #1F1F1F;\n",
       "  --xr-disabled-color: #515151;\n",
       "  --xr-background-color: #111111;\n",
       "  --xr-background-color-row-even: #111111;\n",
       "  --xr-background-color-row-odd: #313131;\n",
       "}\n",
       "\n",
       ".xr-wrap {\n",
       "  display: block;\n",
       "  min-width: 300px;\n",
       "  max-width: 700px;\n",
       "}\n",
       "\n",
       ".xr-text-repr-fallback {\n",
       "  /* fallback to plain text repr when CSS is not injected (untrusted notebook) */\n",
       "  display: none;\n",
       "}\n",
       "\n",
       ".xr-header {\n",
       "  padding-top: 6px;\n",
       "  padding-bottom: 6px;\n",
       "  margin-bottom: 4px;\n",
       "  border-bottom: solid 1px var(--xr-border-color);\n",
       "}\n",
       "\n",
       ".xr-header > div,\n",
       ".xr-header > ul {\n",
       "  display: inline;\n",
       "  margin-top: 0;\n",
       "  margin-bottom: 0;\n",
       "}\n",
       "\n",
       ".xr-obj-type,\n",
       ".xr-array-name {\n",
       "  margin-left: 2px;\n",
       "  margin-right: 10px;\n",
       "}\n",
       "\n",
       ".xr-obj-type {\n",
       "  color: var(--xr-font-color2);\n",
       "}\n",
       "\n",
       ".xr-sections {\n",
       "  padding-left: 0 !important;\n",
       "  display: grid;\n",
       "  grid-template-columns: 150px auto auto 1fr 20px 20px;\n",
       "}\n",
       "\n",
       ".xr-section-item {\n",
       "  display: contents;\n",
       "}\n",
       "\n",
       ".xr-section-item input {\n",
       "  display: none;\n",
       "}\n",
       "\n",
       ".xr-section-item input + label {\n",
       "  color: var(--xr-disabled-color);\n",
       "}\n",
       "\n",
       ".xr-section-item input:enabled + label {\n",
       "  cursor: pointer;\n",
       "  color: var(--xr-font-color2);\n",
       "}\n",
       "\n",
       ".xr-section-item input:enabled + label:hover {\n",
       "  color: var(--xr-font-color0);\n",
       "}\n",
       "\n",
       ".xr-section-summary {\n",
       "  grid-column: 1;\n",
       "  color: var(--xr-font-color2);\n",
       "  font-weight: 500;\n",
       "}\n",
       "\n",
       ".xr-section-summary > span {\n",
       "  display: inline-block;\n",
       "  padding-left: 0.5em;\n",
       "}\n",
       "\n",
       ".xr-section-summary-in:disabled + label {\n",
       "  color: var(--xr-font-color2);\n",
       "}\n",
       "\n",
       ".xr-section-summary-in + label:before {\n",
       "  display: inline-block;\n",
       "  content: '►';\n",
       "  font-size: 11px;\n",
       "  width: 15px;\n",
       "  text-align: center;\n",
       "}\n",
       "\n",
       ".xr-section-summary-in:disabled + label:before {\n",
       "  color: var(--xr-disabled-color);\n",
       "}\n",
       "\n",
       ".xr-section-summary-in:checked + label:before {\n",
       "  content: '▼';\n",
       "}\n",
       "\n",
       ".xr-section-summary-in:checked + label > span {\n",
       "  display: none;\n",
       "}\n",
       "\n",
       ".xr-section-summary,\n",
       ".xr-section-inline-details {\n",
       "  padding-top: 4px;\n",
       "  padding-bottom: 4px;\n",
       "}\n",
       "\n",
       ".xr-section-inline-details {\n",
       "  grid-column: 2 / -1;\n",
       "}\n",
       "\n",
       ".xr-section-details {\n",
       "  display: none;\n",
       "  grid-column: 1 / -1;\n",
       "  margin-bottom: 5px;\n",
       "}\n",
       "\n",
       ".xr-section-summary-in:checked ~ .xr-section-details {\n",
       "  display: contents;\n",
       "}\n",
       "\n",
       ".xr-array-wrap {\n",
       "  grid-column: 1 / -1;\n",
       "  display: grid;\n",
       "  grid-template-columns: 20px auto;\n",
       "}\n",
       "\n",
       ".xr-array-wrap > label {\n",
       "  grid-column: 1;\n",
       "  vertical-align: top;\n",
       "}\n",
       "\n",
       ".xr-preview {\n",
       "  color: var(--xr-font-color3);\n",
       "}\n",
       "\n",
       ".xr-array-preview,\n",
       ".xr-array-data {\n",
       "  padding: 0 5px !important;\n",
       "  grid-column: 2;\n",
       "}\n",
       "\n",
       ".xr-array-data,\n",
       ".xr-array-in:checked ~ .xr-array-preview {\n",
       "  display: none;\n",
       "}\n",
       "\n",
       ".xr-array-in:checked ~ .xr-array-data,\n",
       ".xr-array-preview {\n",
       "  display: inline-block;\n",
       "}\n",
       "\n",
       ".xr-dim-list {\n",
       "  display: inline-block !important;\n",
       "  list-style: none;\n",
       "  padding: 0 !important;\n",
       "  margin: 0;\n",
       "}\n",
       "\n",
       ".xr-dim-list li {\n",
       "  display: inline-block;\n",
       "  padding: 0;\n",
       "  margin: 0;\n",
       "}\n",
       "\n",
       ".xr-dim-list:before {\n",
       "  content: '(';\n",
       "}\n",
       "\n",
       ".xr-dim-list:after {\n",
       "  content: ')';\n",
       "}\n",
       "\n",
       ".xr-dim-list li:not(:last-child):after {\n",
       "  content: ',';\n",
       "  padding-right: 5px;\n",
       "}\n",
       "\n",
       ".xr-has-index {\n",
       "  font-weight: bold;\n",
       "}\n",
       "\n",
       ".xr-var-list,\n",
       ".xr-var-item {\n",
       "  display: contents;\n",
       "}\n",
       "\n",
       ".xr-var-item > div,\n",
       ".xr-var-item label,\n",
       ".xr-var-item > .xr-var-name span {\n",
       "  background-color: var(--xr-background-color-row-even);\n",
       "  margin-bottom: 0;\n",
       "}\n",
       "\n",
       ".xr-var-item > .xr-var-name:hover span {\n",
       "  padding-right: 5px;\n",
       "}\n",
       "\n",
       ".xr-var-list > li:nth-child(odd) > div,\n",
       ".xr-var-list > li:nth-child(odd) > label,\n",
       ".xr-var-list > li:nth-child(odd) > .xr-var-name span {\n",
       "  background-color: var(--xr-background-color-row-odd);\n",
       "}\n",
       "\n",
       ".xr-var-name {\n",
       "  grid-column: 1;\n",
       "}\n",
       "\n",
       ".xr-var-dims {\n",
       "  grid-column: 2;\n",
       "}\n",
       "\n",
       ".xr-var-dtype {\n",
       "  grid-column: 3;\n",
       "  text-align: right;\n",
       "  color: var(--xr-font-color2);\n",
       "}\n",
       "\n",
       ".xr-var-preview {\n",
       "  grid-column: 4;\n",
       "}\n",
       "\n",
       ".xr-var-name,\n",
       ".xr-var-dims,\n",
       ".xr-var-dtype,\n",
       ".xr-preview,\n",
       ".xr-attrs dt {\n",
       "  white-space: nowrap;\n",
       "  overflow: hidden;\n",
       "  text-overflow: ellipsis;\n",
       "  padding-right: 10px;\n",
       "}\n",
       "\n",
       ".xr-var-name:hover,\n",
       ".xr-var-dims:hover,\n",
       ".xr-var-dtype:hover,\n",
       ".xr-attrs dt:hover {\n",
       "  overflow: visible;\n",
       "  width: auto;\n",
       "  z-index: 1;\n",
       "}\n",
       "\n",
       ".xr-var-attrs,\n",
       ".xr-var-data {\n",
       "  display: none;\n",
       "  background-color: var(--xr-background-color) !important;\n",
       "  padding-bottom: 5px !important;\n",
       "}\n",
       "\n",
       ".xr-var-attrs-in:checked ~ .xr-var-attrs,\n",
       ".xr-var-data-in:checked ~ .xr-var-data {\n",
       "  display: block;\n",
       "}\n",
       "\n",
       ".xr-var-data > table {\n",
       "  float: right;\n",
       "}\n",
       "\n",
       ".xr-var-name span,\n",
       ".xr-var-data,\n",
       ".xr-attrs {\n",
       "  padding-left: 25px !important;\n",
       "}\n",
       "\n",
       ".xr-attrs,\n",
       ".xr-var-attrs,\n",
       ".xr-var-data {\n",
       "  grid-column: 1 / -1;\n",
       "}\n",
       "\n",
       "dl.xr-attrs {\n",
       "  padding: 0;\n",
       "  margin: 0;\n",
       "  display: grid;\n",
       "  grid-template-columns: 125px auto;\n",
       "}\n",
       "\n",
       ".xr-attrs dt,\n",
       ".xr-attrs dd {\n",
       "  padding: 0;\n",
       "  margin: 0;\n",
       "  float: left;\n",
       "  padding-right: 10px;\n",
       "  width: auto;\n",
       "}\n",
       "\n",
       ".xr-attrs dt {\n",
       "  font-weight: normal;\n",
       "  grid-column: 1;\n",
       "}\n",
       "\n",
       ".xr-attrs dt:hover span {\n",
       "  display: inline-block;\n",
       "  background: var(--xr-background-color);\n",
       "  padding-right: 10px;\n",
       "}\n",
       "\n",
       ".xr-attrs dd {\n",
       "  grid-column: 2;\n",
       "  white-space: pre-wrap;\n",
       "  word-break: break-all;\n",
       "}\n",
       "\n",
       ".xr-icon-database,\n",
       ".xr-icon-file-text2 {\n",
       "  display: inline-block;\n",
       "  vertical-align: middle;\n",
       "  width: 1em;\n",
       "  height: 1.5em !important;\n",
       "  stroke-width: 0;\n",
       "  stroke: currentColor;\n",
       "  fill: currentColor;\n",
       "}\n",
       "</style><pre class='xr-text-repr-fallback'>&lt;xarray.Dataset&gt;\n",
       "Dimensions:      (constituent: 35, time: 153)\n",
       "Coordinates:\n",
       "  * time         (time) datetime64[ns] 2009-01-31 2009-02-28 ... 2021-12-31\n",
       "  * constituent  (constituent) object &#x27;2MK5&#x27; &#x27;2MN6&#x27; &#x27;2MS6&#x27; ... &#x27;SN4&#x27; &#x27;UPS1&#x27;\n",
       "Data variables:\n",
       "    A            (time, constituent) float64 0.0006958 0.008517 ... nan 0.002745\n",
       "    A_ci         (time, constituent) float64 0.002005 0.002783 ... nan 0.005277\n",
       "    g            (time, constituent) float64 297.1 289.7 84.7 ... nan 153.0\n",
       "    g_ci         (time, constituent) float64 165.2 18.73 12.35 ... nan 110.2</pre><div class='xr-wrap' hidden><div class='xr-header'><div class='xr-obj-type'>xarray.Dataset</div></div><ul class='xr-sections'><li class='xr-section-item'><input id='section-20da6c1f-9413-4b26-ac00-86f46e8dd6a1' class='xr-section-summary-in' type='checkbox' disabled ><label for='section-20da6c1f-9413-4b26-ac00-86f46e8dd6a1' class='xr-section-summary'  title='Expand/collapse section'>Dimensions:</label><div class='xr-section-inline-details'><ul class='xr-dim-list'><li><span class='xr-has-index'>constituent</span>: 35</li><li><span class='xr-has-index'>time</span>: 153</li></ul></div><div class='xr-section-details'></div></li><li class='xr-section-item'><input id='section-28a81c87-35f0-4446-8796-fb0990a41547' class='xr-section-summary-in' type='checkbox'  checked><label for='section-28a81c87-35f0-4446-8796-fb0990a41547' class='xr-section-summary' >Coordinates: <span>(2)</span></label><div class='xr-section-inline-details'></div><div class='xr-section-details'><ul class='xr-var-list'><li class='xr-var-item'><div class='xr-var-name'><span class='xr-has-index'>time</span></div><div class='xr-var-dims'>(time)</div><div class='xr-var-dtype'>datetime64[ns]</div><div class='xr-var-preview xr-preview'>2009-01-31 ... 2021-12-31</div><input id='attrs-c55ff359-4447-4301-beca-8b0a206e12e7' class='xr-var-attrs-in' type='checkbox' disabled><label for='attrs-c55ff359-4447-4301-beca-8b0a206e12e7' title='Show/Hide attributes'><svg class='icon xr-icon-file-text2'><use xlink:href='#icon-file-text2'></use></svg></label><input id='data-84c31150-ae3c-4cd7-a95e-fc8a11fb1778' class='xr-var-data-in' type='checkbox'><label for='data-84c31150-ae3c-4cd7-a95e-fc8a11fb1778' title='Show/Hide data repr'><svg class='icon xr-icon-database'><use xlink:href='#icon-database'></use></svg></label><div class='xr-var-attrs'><dl class='xr-attrs'></dl></div><div class='xr-var-data'><pre>array([&#x27;2009-01-31T00:00:00.000000000&#x27;, &#x27;2009-02-28T00:00:00.000000000&#x27;,\n",
       "       &#x27;2009-03-31T00:00:00.000000000&#x27;, &#x27;2009-04-30T00:00:00.000000000&#x27;,\n",
       "       &#x27;2009-05-31T00:00:00.000000000&#x27;, &#x27;2009-06-30T00:00:00.000000000&#x27;,\n",
       "       &#x27;2009-07-31T00:00:00.000000000&#x27;, &#x27;2009-08-31T00:00:00.000000000&#x27;,\n",
       "       &#x27;2009-09-30T00:00:00.000000000&#x27;, &#x27;2009-10-31T00:00:00.000000000&#x27;,\n",
       "       &#x27;2009-11-30T00:00:00.000000000&#x27;, &#x27;2009-12-31T00:00:00.000000000&#x27;,\n",
       "       &#x27;2010-01-31T00:00:00.000000000&#x27;, &#x27;2010-02-28T00:00:00.000000000&#x27;,\n",
       "       &#x27;2010-03-31T00:00:00.000000000&#x27;, &#x27;2010-04-30T00:00:00.000000000&#x27;,\n",
       "       &#x27;2010-05-31T00:00:00.000000000&#x27;, &#x27;2010-06-30T00:00:00.000000000&#x27;,\n",
       "       &#x27;2010-07-31T00:00:00.000000000&#x27;, &#x27;2010-08-31T00:00:00.000000000&#x27;,\n",
       "       &#x27;2010-09-30T00:00:00.000000000&#x27;, &#x27;2010-10-31T00:00:00.000000000&#x27;,\n",
       "       &#x27;2010-11-30T00:00:00.000000000&#x27;, &#x27;2010-12-31T00:00:00.000000000&#x27;,\n",
       "       &#x27;2011-01-31T00:00:00.000000000&#x27;, &#x27;2011-02-28T00:00:00.000000000&#x27;,\n",
       "       &#x27;2011-03-31T00:00:00.000000000&#x27;, &#x27;2011-04-30T00:00:00.000000000&#x27;,\n",
       "       &#x27;2011-05-31T00:00:00.000000000&#x27;, &#x27;2011-06-30T00:00:00.000000000&#x27;,\n",
       "       &#x27;2011-07-31T00:00:00.000000000&#x27;, &#x27;2011-08-31T00:00:00.000000000&#x27;,\n",
       "       &#x27;2011-09-30T00:00:00.000000000&#x27;, &#x27;2011-10-31T00:00:00.000000000&#x27;,\n",
       "       &#x27;2011-11-30T00:00:00.000000000&#x27;, &#x27;2011-12-31T00:00:00.000000000&#x27;,\n",
       "       &#x27;2012-01-31T00:00:00.000000000&#x27;, &#x27;2012-02-29T00:00:00.000000000&#x27;,\n",
       "       &#x27;2012-03-31T00:00:00.000000000&#x27;, &#x27;2012-04-30T00:00:00.000000000&#x27;,\n",
       "       &#x27;2012-05-31T00:00:00.000000000&#x27;, &#x27;2012-06-30T00:00:00.000000000&#x27;,\n",
       "       &#x27;2012-07-31T00:00:00.000000000&#x27;, &#x27;2012-08-31T00:00:00.000000000&#x27;,\n",
       "       &#x27;2012-09-30T00:00:00.000000000&#x27;, &#x27;2012-10-31T00:00:00.000000000&#x27;,\n",
       "       &#x27;2012-11-30T00:00:00.000000000&#x27;, &#x27;2013-02-28T00:00:00.000000000&#x27;,\n",
       "       &#x27;2013-03-31T00:00:00.000000000&#x27;, &#x27;2013-04-30T00:00:00.000000000&#x27;,\n",
       "       &#x27;2013-05-31T00:00:00.000000000&#x27;, &#x27;2013-06-30T00:00:00.000000000&#x27;,\n",
       "       &#x27;2013-07-31T00:00:00.000000000&#x27;, &#x27;2013-08-31T00:00:00.000000000&#x27;,\n",
       "       &#x27;2013-09-30T00:00:00.000000000&#x27;, &#x27;2013-10-31T00:00:00.000000000&#x27;,\n",
       "       &#x27;2013-11-30T00:00:00.000000000&#x27;, &#x27;2013-12-31T00:00:00.000000000&#x27;,\n",
       "       &#x27;2014-01-31T00:00:00.000000000&#x27;, &#x27;2014-02-28T00:00:00.000000000&#x27;,\n",
       "       &#x27;2014-03-31T00:00:00.000000000&#x27;, &#x27;2014-04-30T00:00:00.000000000&#x27;,\n",
       "       &#x27;2014-05-31T00:00:00.000000000&#x27;, &#x27;2014-06-30T00:00:00.000000000&#x27;,\n",
       "       &#x27;2014-07-31T00:00:00.000000000&#x27;, &#x27;2014-08-31T00:00:00.000000000&#x27;,\n",
       "       &#x27;2014-09-30T00:00:00.000000000&#x27;, &#x27;2014-10-31T00:00:00.000000000&#x27;,\n",
       "       &#x27;2014-11-30T00:00:00.000000000&#x27;, &#x27;2014-12-31T00:00:00.000000000&#x27;,\n",
       "       &#x27;2015-01-31T00:00:00.000000000&#x27;, &#x27;2015-02-28T00:00:00.000000000&#x27;,\n",
       "       &#x27;2015-03-31T00:00:00.000000000&#x27;, &#x27;2015-04-30T00:00:00.000000000&#x27;,\n",
       "       &#x27;2015-05-31T00:00:00.000000000&#x27;, &#x27;2015-06-30T00:00:00.000000000&#x27;,\n",
       "       &#x27;2015-07-31T00:00:00.000000000&#x27;, &#x27;2015-08-31T00:00:00.000000000&#x27;,\n",
       "       &#x27;2015-09-30T00:00:00.000000000&#x27;, &#x27;2015-10-31T00:00:00.000000000&#x27;,\n",
       "       &#x27;2015-11-30T00:00:00.000000000&#x27;, &#x27;2015-12-31T00:00:00.000000000&#x27;,\n",
       "       &#x27;2016-01-31T00:00:00.000000000&#x27;, &#x27;2016-02-29T00:00:00.000000000&#x27;,\n",
       "       &#x27;2016-03-31T00:00:00.000000000&#x27;, &#x27;2016-04-30T00:00:00.000000000&#x27;,\n",
       "       &#x27;2016-05-31T00:00:00.000000000&#x27;, &#x27;2016-06-30T00:00:00.000000000&#x27;,\n",
       "       &#x27;2016-07-31T00:00:00.000000000&#x27;, &#x27;2016-08-31T00:00:00.000000000&#x27;,\n",
       "       &#x27;2016-09-30T00:00:00.000000000&#x27;, &#x27;2016-10-31T00:00:00.000000000&#x27;,\n",
       "       &#x27;2016-11-30T00:00:00.000000000&#x27;, &#x27;2016-12-31T00:00:00.000000000&#x27;,\n",
       "       &#x27;2017-01-31T00:00:00.000000000&#x27;, &#x27;2017-02-28T00:00:00.000000000&#x27;,\n",
       "       &#x27;2017-03-31T00:00:00.000000000&#x27;, &#x27;2017-04-30T00:00:00.000000000&#x27;,\n",
       "       &#x27;2017-05-31T00:00:00.000000000&#x27;, &#x27;2017-06-30T00:00:00.000000000&#x27;,\n",
       "       &#x27;2017-07-31T00:00:00.000000000&#x27;, &#x27;2017-08-31T00:00:00.000000000&#x27;,\n",
       "       &#x27;2017-09-30T00:00:00.000000000&#x27;, &#x27;2017-10-31T00:00:00.000000000&#x27;,\n",
       "       &#x27;2017-11-30T00:00:00.000000000&#x27;, &#x27;2017-12-31T00:00:00.000000000&#x27;,\n",
       "       &#x27;2018-01-31T00:00:00.000000000&#x27;, &#x27;2018-02-28T00:00:00.000000000&#x27;,\n",
       "       &#x27;2018-03-31T00:00:00.000000000&#x27;, &#x27;2018-04-30T00:00:00.000000000&#x27;,\n",
       "       &#x27;2018-05-31T00:00:00.000000000&#x27;, &#x27;2018-06-30T00:00:00.000000000&#x27;,\n",
       "       &#x27;2018-07-31T00:00:00.000000000&#x27;, &#x27;2018-08-31T00:00:00.000000000&#x27;,\n",
       "       &#x27;2018-09-30T00:00:00.000000000&#x27;, &#x27;2018-10-31T00:00:00.000000000&#x27;,\n",
       "       &#x27;2018-11-30T00:00:00.000000000&#x27;, &#x27;2018-12-31T00:00:00.000000000&#x27;,\n",
       "       &#x27;2019-01-31T00:00:00.000000000&#x27;, &#x27;2019-02-28T00:00:00.000000000&#x27;,\n",
       "       &#x27;2019-03-31T00:00:00.000000000&#x27;, &#x27;2019-04-30T00:00:00.000000000&#x27;,\n",
       "       &#x27;2019-05-31T00:00:00.000000000&#x27;, &#x27;2019-06-30T00:00:00.000000000&#x27;,\n",
       "       &#x27;2019-07-31T00:00:00.000000000&#x27;, &#x27;2019-09-30T00:00:00.000000000&#x27;,\n",
       "       &#x27;2019-10-31T00:00:00.000000000&#x27;, &#x27;2019-11-30T00:00:00.000000000&#x27;,\n",
       "       &#x27;2019-12-31T00:00:00.000000000&#x27;, &#x27;2020-01-31T00:00:00.000000000&#x27;,\n",
       "       &#x27;2020-02-29T00:00:00.000000000&#x27;, &#x27;2020-03-31T00:00:00.000000000&#x27;,\n",
       "       &#x27;2020-04-30T00:00:00.000000000&#x27;, &#x27;2020-05-31T00:00:00.000000000&#x27;,\n",
       "       &#x27;2020-06-30T00:00:00.000000000&#x27;, &#x27;2020-07-31T00:00:00.000000000&#x27;,\n",
       "       &#x27;2020-08-31T00:00:00.000000000&#x27;, &#x27;2020-09-30T00:00:00.000000000&#x27;,\n",
       "       &#x27;2020-10-31T00:00:00.000000000&#x27;, &#x27;2020-11-30T00:00:00.000000000&#x27;,\n",
       "       &#x27;2020-12-31T00:00:00.000000000&#x27;, &#x27;2021-01-31T00:00:00.000000000&#x27;,\n",
       "       &#x27;2021-02-28T00:00:00.000000000&#x27;, &#x27;2021-03-31T00:00:00.000000000&#x27;,\n",
       "       &#x27;2021-04-30T00:00:00.000000000&#x27;, &#x27;2021-05-31T00:00:00.000000000&#x27;,\n",
       "       &#x27;2021-06-30T00:00:00.000000000&#x27;, &#x27;2021-07-31T00:00:00.000000000&#x27;,\n",
       "       &#x27;2021-08-31T00:00:00.000000000&#x27;, &#x27;2021-09-30T00:00:00.000000000&#x27;,\n",
       "       &#x27;2021-10-31T00:00:00.000000000&#x27;, &#x27;2021-11-30T00:00:00.000000000&#x27;,\n",
       "       &#x27;2021-12-31T00:00:00.000000000&#x27;], dtype=&#x27;datetime64[ns]&#x27;)</pre></div></li><li class='xr-var-item'><div class='xr-var-name'><span class='xr-has-index'>constituent</span></div><div class='xr-var-dims'>(constituent)</div><div class='xr-var-dtype'>object</div><div class='xr-var-preview xr-preview'>&#x27;2MK5&#x27; &#x27;2MN6&#x27; ... &#x27;SN4&#x27; &#x27;UPS1&#x27;</div><input id='attrs-fdf4883e-eadd-45c5-9a47-ee114dd663d0' class='xr-var-attrs-in' type='checkbox' disabled><label for='attrs-fdf4883e-eadd-45c5-9a47-ee114dd663d0' title='Show/Hide attributes'><svg class='icon xr-icon-file-text2'><use xlink:href='#icon-file-text2'></use></svg></label><input id='data-36029968-db6e-49c0-9300-91566f96bcea' class='xr-var-data-in' type='checkbox'><label for='data-36029968-db6e-49c0-9300-91566f96bcea' title='Show/Hide data repr'><svg class='icon xr-icon-database'><use xlink:href='#icon-database'></use></svg></label><div class='xr-var-attrs'><dl class='xr-attrs'></dl></div><div class='xr-var-data'><pre>array([&#x27;2MK5&#x27;, &#x27;2MN6&#x27;, &#x27;2MS6&#x27;, &#x27;2Q1&#x27;, &#x27;2SK5&#x27;, &#x27;2SM6&#x27;, &#x27;3MK7&#x27;, &#x27;ALP1&#x27;, &#x27;EPS2&#x27;,\n",
       "       &#x27;ETA2&#x27;, &#x27;J1&#x27;, &#x27;K1&#x27;, &#x27;L2&#x27;, &#x27;M2&#x27;, &#x27;M3&#x27;, &#x27;M4&#x27;, &#x27;M6&#x27;, &#x27;M8&#x27;, &#x27;MK3&#x27;, &#x27;MM&#x27;,\n",
       "       &#x27;MN4&#x27;, &#x27;MO3&#x27;, &#x27;MS4&#x27;, &#x27;MSF&#x27;, &#x27;MU2&#x27;, &#x27;N2&#x27;, &#x27;NO1&#x27;, &#x27;O1&#x27;, &#x27;OO1&#x27;, &#x27;Q1&#x27;, &#x27;S2&#x27;,\n",
       "       &#x27;S4&#x27;, &#x27;SK3&#x27;, &#x27;SN4&#x27;, &#x27;UPS1&#x27;], dtype=object)</pre></div></li></ul></div></li><li class='xr-section-item'><input id='section-95beaa6e-043f-4227-b93d-8435e1f0d8c7' class='xr-section-summary-in' type='checkbox'  checked><label for='section-95beaa6e-043f-4227-b93d-8435e1f0d8c7' class='xr-section-summary' >Data variables: <span>(4)</span></label><div class='xr-section-inline-details'></div><div class='xr-section-details'><ul class='xr-var-list'><li class='xr-var-item'><div class='xr-var-name'><span>A</span></div><div class='xr-var-dims'>(time, constituent)</div><div class='xr-var-dtype'>float64</div><div class='xr-var-preview xr-preview'>0.0006958 0.008517 ... nan 0.002745</div><input id='attrs-155df151-62cb-4663-b21f-c89f5b7d680a' class='xr-var-attrs-in' type='checkbox' disabled><label for='attrs-155df151-62cb-4663-b21f-c89f5b7d680a' title='Show/Hide attributes'><svg class='icon xr-icon-file-text2'><use xlink:href='#icon-file-text2'></use></svg></label><input id='data-0ef13d96-cf9c-4bec-90a5-3f5892b442da' class='xr-var-data-in' type='checkbox'><label for='data-0ef13d96-cf9c-4bec-90a5-3f5892b442da' title='Show/Hide data repr'><svg class='icon xr-icon-database'><use xlink:href='#icon-database'></use></svg></label><div class='xr-var-attrs'><dl class='xr-attrs'></dl></div><div class='xr-var-data'><pre>array([[0.00069584, 0.0085173 , 0.01291059, ..., 0.00338343, 0.00112161,\n",
       "        0.0051258 ],\n",
       "       [0.00151052, 0.00436456, 0.01849376, ..., 0.00140394,        nan,\n",
       "        0.00065365],\n",
       "       [0.00072808, 0.00368346, 0.01788222, ..., 0.00175975, 0.00120535,\n",
       "        0.00188354],\n",
       "       ...,\n",
       "       [0.00052829, 0.00704076, 0.01476988, ..., 0.00080391, 0.00220027,\n",
       "        0.00384187],\n",
       "       [0.00408017, 0.00766921, 0.0130658 , ..., 0.00199253,        nan,\n",
       "        0.00295255],\n",
       "       [0.00118018, 0.00600811, 0.00990268, ..., 0.00301579,        nan,\n",
       "        0.00274468]])</pre></div></li><li class='xr-var-item'><div class='xr-var-name'><span>A_ci</span></div><div class='xr-var-dims'>(time, constituent)</div><div class='xr-var-dtype'>float64</div><div class='xr-var-preview xr-preview'>0.002005 0.002783 ... nan 0.005277</div><input id='attrs-fd456ba7-cfd0-4064-9021-1222f7a0f6fc' class='xr-var-attrs-in' type='checkbox' disabled><label for='attrs-fd456ba7-cfd0-4064-9021-1222f7a0f6fc' title='Show/Hide attributes'><svg class='icon xr-icon-file-text2'><use xlink:href='#icon-file-text2'></use></svg></label><input id='data-327b9a5d-1be8-4e9a-8de8-d24f96f55fe3' class='xr-var-data-in' type='checkbox'><label for='data-327b9a5d-1be8-4e9a-8de8-d24f96f55fe3' title='Show/Hide data repr'><svg class='icon xr-icon-database'><use xlink:href='#icon-database'></use></svg></label><div class='xr-var-attrs'><dl class='xr-attrs'></dl></div><div class='xr-var-data'><pre>array([[0.00200484, 0.00278287, 0.00278336, ..., 0.00147337, 0.00189985,\n",
       "        0.00829598],\n",
       "       [0.00186816, 0.00289613, 0.00289292, ..., 0.00106145,        nan,\n",
       "        0.00250174],\n",
       "       [0.00174139, 0.00281991, 0.00282057, ..., 0.00088665, 0.00114798,\n",
       "        0.00436556],\n",
       "       ...,\n",
       "       [0.00199221, 0.00175527, 0.00175526, ..., 0.00119778, 0.00152588,\n",
       "        0.00249177],\n",
       "       [0.00156095, 0.00168513, 0.00168478, ..., 0.00131613,        nan,\n",
       "        0.00319879],\n",
       "       [0.00171676, 0.00178009, 0.00178046, ..., 0.00206147,        nan,\n",
       "        0.00527745]])</pre></div></li><li class='xr-var-item'><div class='xr-var-name'><span>g</span></div><div class='xr-var-dims'>(time, constituent)</div><div class='xr-var-dtype'>float64</div><div class='xr-var-preview xr-preview'>297.1 289.7 84.7 ... nan 153.0</div><input id='attrs-bcad99e7-300e-42d4-a7c4-77f13b1d117b' class='xr-var-attrs-in' type='checkbox' disabled><label for='attrs-bcad99e7-300e-42d4-a7c4-77f13b1d117b' title='Show/Hide attributes'><svg class='icon xr-icon-file-text2'><use xlink:href='#icon-file-text2'></use></svg></label><input id='data-8b0a4cf7-a401-43bf-9856-f7e3bb62a68d' class='xr-var-data-in' type='checkbox'><label for='data-8b0a4cf7-a401-43bf-9856-f7e3bb62a68d' title='Show/Hide data repr'><svg class='icon xr-icon-database'><use xlink:href='#icon-database'></use></svg></label><div class='xr-var-attrs'><dl class='xr-attrs'></dl></div><div class='xr-var-data'><pre>array([[297.10720376, 289.68228304,  84.70395599, ..., 236.71375816,\n",
       "        297.63022666, 156.03214172],\n",
       "       [270.1622592 , 290.0918481 ,  75.41242851, ..., 292.88845691,\n",
       "                 nan, 235.60957395],\n",
       "       [166.04711949, 273.03501539,  50.60521884, ..., 319.08984375,\n",
       "        269.63482427,   0.67928718],\n",
       "       ...,\n",
       "       [ 13.3872592 , 298.42453261,  66.62610443, ..., 214.17605632,\n",
       "        175.36483179, 319.07694677],\n",
       "       [333.05980528, 300.76947274,  54.79954574, ..., 209.90651241,\n",
       "                 nan, 125.94895432],\n",
       "       [323.50291626, 286.45120325,  50.71565758, ..., 169.53525027,\n",
       "                 nan, 152.96184073]])</pre></div></li><li class='xr-var-item'><div class='xr-var-name'><span>g_ci</span></div><div class='xr-var-dims'>(time, constituent)</div><div class='xr-var-dtype'>float64</div><div class='xr-var-preview xr-preview'>165.2 18.73 12.35 ... nan 110.2</div><input id='attrs-ab698837-eaa2-4b66-8c7c-ff59801c1a00' class='xr-var-attrs-in' type='checkbox' disabled><label for='attrs-ab698837-eaa2-4b66-8c7c-ff59801c1a00' title='Show/Hide attributes'><svg class='icon xr-icon-file-text2'><use xlink:href='#icon-file-text2'></use></svg></label><input id='data-7d8d0f02-5514-4cb7-88f2-8cbd1fc9d62f' class='xr-var-data-in' type='checkbox'><label for='data-7d8d0f02-5514-4cb7-88f2-8cbd1fc9d62f' title='Show/Hide data repr'><svg class='icon xr-icon-database'><use xlink:href='#icon-database'></use></svg></label><div class='xr-var-attrs'><dl class='xr-attrs'></dl></div><div class='xr-var-data'><pre>array([[165.24439387,  18.72672073,  12.35212946, ...,  24.94746575,\n",
       "         96.93328671,  92.70084556],\n",
       "       [ 70.76451822,  37.98309509,   8.97402519, ...,  43.30239395,\n",
       "                 nan, 219.46843281],\n",
       "       [136.95461352,  43.87748651,   9.03594191, ...,  28.86601548,\n",
       "         54.59412295, 132.61723805],\n",
       "       ...,\n",
       "       [215.91425577,  14.28372761,   6.80905932, ...,  85.33106887,\n",
       "         39.70799581,  37.15689314],\n",
       "       [ 21.92080858,  12.58589868,   7.38907555, ...,  37.83677499,\n",
       "                 nan,  62.08226647],\n",
       "       [ 83.37574787,  16.97979638,  10.29974862, ...,  39.22458092,\n",
       "                 nan, 110.15769921]])</pre></div></li></ul></div></li><li class='xr-section-item'><input id='section-e96fb1c4-7370-4923-b791-0770cf25016e' class='xr-section-summary-in' type='checkbox' disabled ><label for='section-e96fb1c4-7370-4923-b791-0770cf25016e' class='xr-section-summary'  title='Expand/collapse section'>Attributes: <span>(0)</span></label><div class='xr-section-inline-details'></div><div class='xr-section-details'><dl class='xr-attrs'></dl></div></li></ul></div></div>"
      ],
      "text/plain": [
       "<xarray.Dataset>\n",
       "Dimensions:      (constituent: 35, time: 153)\n",
       "Coordinates:\n",
       "  * time         (time) datetime64[ns] 2009-01-31 2009-02-28 ... 2021-12-31\n",
       "  * constituent  (constituent) object '2MK5' '2MN6' '2MS6' ... 'SN4' 'UPS1'\n",
       "Data variables:\n",
       "    A            (time, constituent) float64 0.0006958 0.008517 ... nan 0.002745\n",
       "    A_ci         (time, constituent) float64 0.002005 0.002783 ... nan 0.005277\n",
       "    g            (time, constituent) float64 297.1 289.7 84.7 ... nan 153.0\n",
       "    g_ci         (time, constituent) float64 165.2 18.73 12.35 ... nan 110.2"
      ]
     },
     "execution_count": 13,
     "metadata": {},
     "output_type": "execute_result"
    }
   ],
   "source": [
    "result = df[\"SLEV(metres)\"].loc[\"2009\":\"2022\"].groupby(pd.Grouper(freq=\"M\")).apply(lambda x: tidal_analysis(x, lat))\n",
    "result.index.set_names([\"time\", \"constituent\"], inplace=True)\n",
    "\n",
    "ds = result.to_xarray()\n",
    "ds"
   ]
  },
  {
   "cell_type": "markdown",
   "metadata": {},
   "source": [
    "#### Figure: Monthly M2 Amplitudes 2009-2022"
   ]
  },
  {
   "cell_type": "code",
   "execution_count": 14,
   "metadata": {},
   "outputs": [
    {
     "data": {
      "text/plain": [
       "[Text(0.5, 1.0, 'Monthly M2 Tidal Amplitude'),\n",
       " Text(0, 0.5, 'M2 Tidal Amplitude [m]')]"
      ]
     },
     "execution_count": 14,
     "metadata": {},
     "output_type": "execute_result"
    },
    {
     "data": {
      "image/png": "[encoded data removed]",
      "text/plain": [
       "<Figure size 1080x360 with 1 Axes>"
      ]
     },
     "metadata": {
      "needs_background": "light"
     },
     "output_type": "display_data"
    }
   ],
   "source": [
    "# create figure with one subplot axis with size 15x5 inches\n",
    "fig, ax = plt.subplots(1, 1, figsize=(15, 5))\n",
    "\n",
    "constituent = \"M2\"\n",
    "\n",
    "# monthly tidal amplitude and confidence intervals\n",
    "ax.errorbar(\n",
    "    ds[\"time\"].values, ds[\"A\"].sel(constituent=constituent),\n",
    "    yerr=ds[\"A_ci\"].sel(constituent=constituent),\n",
    "    fmt=\"o\"\n",
    ")\n",
    "\n",
    "# title and axis label\n",
    "ax.set(\n",
    "    title=f\"Monthly {constituent} Tidal Amplitude\",\n",
    "    ylabel=f\"{constituent} Tidal Amplitude [m]\",\n",
    "    #ylim=(0,3000)\n",
    ")"
   ]
  },
  {
   "cell_type": "markdown",
   "metadata": {},
   "source": [
    "If we compare the tidal analysis to the raw gage height data for the problematic year (2009) it looks like the issue might be related to missing data:"
   ]
  },
  {
   "cell_type": "code",
   "execution_count": 15,
   "metadata": {},
   "outputs": [],
   "source": [
    "result = df[\"SLEV(metres)\"].loc[\"2009\":\"2009\"].groupby(pd.Grouper(freq=\"M\")).apply(lambda x: tidal_analysis(x, lat))\n",
    "result.index.set_names([\"time\", \"constituent\"], inplace=True)\n",
    "\n",
    "ds = result.to_xarray()"
   ]
  },
  {
   "cell_type": "markdown",
   "metadata": {},
   "source": [
    "#### Figure: Monthly M2 Amplitudes 2009-2010"
   ]
  },
  {
   "cell_type": "code",
   "execution_count": 16,
   "metadata": {},
   "outputs": [
    {
     "data": {
      "text/plain": [
       "[Text(0.5, 1.0, 'Monthly M2 Tidal Amplitude'),\n",
       " Text(0, 0.5, 'M2 Tidal Amplitude [m]')]"
      ]
     },
     "execution_count": 16,
     "metadata": {},
     "output_type": "execute_result"
    },
    {
     "data": {
      "image/png": "[encoded data removed]",
      "text/plain": [
       "<Figure size 1080x360 with 1 Axes>"
      ]
     },
     "metadata": {
      "needs_background": "light"
     },
     "output_type": "display_data"
    }
   ],
   "source": [
    "# create figure with one subplot axis with size 15x5 inches\n",
    "fig, ax = plt.subplots(1, 1, figsize=(15, 5))\n",
    "\n",
    "constituent = \"M2\"\n",
    "\n",
    "# monthly tidal amplitude and confidence intervals\n",
    "ax.errorbar(\n",
    "    ds[\"time\"].values, ds[\"A\"].sel(constituent=constituent),\n",
    "    yerr=ds[\"A_ci\"].sel(constituent=constituent),\n",
    "    fmt=\"o\"\n",
    ")\n",
    "\n",
    "# title and axis label\n",
    "ax.set(\n",
    "    title=f\"Monthly {constituent} Tidal Amplitude\",\n",
    "    ylabel=f\"{constituent} Tidal Amplitude [m]\",\n",
    ")"
   ]
  },
  {
   "cell_type": "markdown",
   "metadata": {},
   "source": [
    "#### Figure: Raw Gage Height Data 2009-2010"
   ]
  },
  {
   "cell_type": "code",
   "execution_count": 17,
   "metadata": {},
   "outputs": [
    {
     "data": {
      "text/plain": [
       "[Text(0.5, 1.0, 'Raw Hourly Sea Level Record for Nain (Source: DFO)'),\n",
       " Text(0, 0.5, 'Sea Level [m]')]"
      ]
     },
     "execution_count": 17,
     "metadata": {},
     "output_type": "execute_result"
    },
    {
     "data": {
      "image/png": "[encoded data removed]",
      "text/plain": [
       "<Figure size 1080x360 with 1 Axes>"
      ]
     },
     "metadata": {
      "needs_background": "light"
     },
     "output_type": "display_data"
    }
   ],
   "source": [
    "fig, ax = plt.subplots(1, 1, figsize=(15, 5))\n",
    "\n",
    "# Plot \"height\" column against index (which is the a datetime object)\n",
    "df[\"SLEV(metres)\"].loc[\"2009\":\"2009\"].plot(\n",
    "    ax=ax          # use axis `ax` created above\n",
    ")\n",
    "\n",
    "# title and axis label\n",
    "ax.set(\n",
    "    title=\"Raw Hourly Sea Level Record for Nain (Source: DFO)\",\n",
    "    ylabel=\"Sea Level [m]\"\n",
    ")"
   ]
  },
  {
   "cell_type": "markdown",
   "metadata": {},
   "source": [
    "And if we compare the raw gage height data for this \"bad\" year to a \"good\" year (e.g., 2020) the raw values aren't off by much:"
   ]
  },
  {
   "cell_type": "code",
   "execution_count": 18,
   "metadata": {},
   "outputs": [],
   "source": [
    "JuneNov_2020 = df[\"2020-06\":\"2020-11\"]\n",
    "JuneNov_2009 = df[\"2009-06\":\"2009-11\"]"
   ]
  },
  {
   "cell_type": "markdown",
   "metadata": {},
   "source": [
    "#### Figure: Raw Gage Height in 2009 vs.2020"
   ]
  },
  {
   "cell_type": "code",
   "execution_count": 19,
   "metadata": {},
   "outputs": [
    {
     "data": {
      "image/png": "[encoded data removed]",
      "text/plain": [
       "<Figure size 720x576 with 1 Axes>"
      ]
     },
     "metadata": {
      "needs_background": "light"
     },
     "output_type": "display_data"
    }
   ],
   "source": [
    "fig, ax = plt.subplots(figsize=(10,8))\n",
    "\n",
    "sns.histplot(JuneNov_2009['SLEV(metres)'])\n",
    "sns.histplot(JuneNov_2020['SLEV(metres)'], color='orange', alpha=0.5)\n",
    "\n",
    "plt.legend(labels=[\"2009\",\"2020\"])\n",
    "plt.show()"
   ]
  },
  {
   "cell_type": "markdown",
   "metadata": {},
   "source": [
    "And looking at the distribution for the entire record, it doesn't have a particularly long tail:\n",
    "\n",
    "### Figure: Raw gage height data for the entire record"
   ]
  },
  {
   "cell_type": "code",
   "execution_count": 103,
   "metadata": {},
   "outputs": [
    {
     "data": {
      "image/png": "[encoded data removed]",
      "text/plain": [
       "<Figure size 720x576 with 1 Axes>"
      ]
     },
     "metadata": {
      "needs_background": "light"
     },
     "output_type": "display_data"
    }
   ],
   "source": [
    "fig, ax = plt.subplots(figsize=(10,8))\n",
    "\n",
    "sns.histplot(df['SLEV(metres)'])\n",
    "\n",
    "plt.show()"
   ]
  },
  {
   "cell_type": "markdown",
   "metadata": {},
   "source": [
    "A quick check of how the missing data are coded in the record:"
   ]
  },
  {
   "cell_type": "code",
   "execution_count": 20,
   "metadata": {},
   "outputs": [
    {
     "data": {
      "text/html": [
       "<div>\n",
       "<style scoped>\n",
       "    .dataframe tbody tr th:only-of-type {\n",
       "        vertical-align: middle;\n",
       "    }\n",
       "\n",
       "    .dataframe tbody tr th {\n",
       "        vertical-align: top;\n",
       "    }\n",
       "\n",
       "    .dataframe thead th {\n",
       "        text-align: right;\n",
       "    }\n",
       "</style>\n",
       "<table border=\"1\" class=\"dataframe\">\n",
       "  <thead>\n",
       "    <tr style=\"text-align: right;\">\n",
       "      <th></th>\n",
       "      <th>SLEV(metres)</th>\n",
       "    </tr>\n",
       "  </thead>\n",
       "  <tbody>\n",
       "    <tr>\n",
       "      <td>2009-07-11 16:00:00</td>\n",
       "      <td>1.36</td>\n",
       "    </tr>\n",
       "    <tr>\n",
       "      <td>2009-07-11 17:00:00</td>\n",
       "      <td>NaN</td>\n",
       "    </tr>\n",
       "    <tr>\n",
       "      <td>2009-07-11 18:00:00</td>\n",
       "      <td>NaN</td>\n",
       "    </tr>\n",
       "    <tr>\n",
       "      <td>2009-07-11 19:00:00</td>\n",
       "      <td>NaN</td>\n",
       "    </tr>\n",
       "    <tr>\n",
       "      <td>2009-07-11 20:00:00</td>\n",
       "      <td>NaN</td>\n",
       "    </tr>\n",
       "    <tr>\n",
       "      <td>...</td>\n",
       "      <td>...</td>\n",
       "    </tr>\n",
       "    <tr>\n",
       "      <td>2009-08-16 03:00:00</td>\n",
       "      <td>NaN</td>\n",
       "    </tr>\n",
       "    <tr>\n",
       "      <td>2009-08-16 04:00:00</td>\n",
       "      <td>NaN</td>\n",
       "    </tr>\n",
       "    <tr>\n",
       "      <td>2009-08-16 05:00:00</td>\n",
       "      <td>NaN</td>\n",
       "    </tr>\n",
       "    <tr>\n",
       "      <td>2009-08-16 06:00:00</td>\n",
       "      <td>NaN</td>\n",
       "    </tr>\n",
       "    <tr>\n",
       "      <td>2009-08-16 07:00:00</td>\n",
       "      <td>NaN</td>\n",
       "    </tr>\n",
       "  </tbody>\n",
       "</table>\n",
       "<p>856 rows × 1 columns</p>\n",
       "</div>"
      ],
      "text/plain": [
       "                     SLEV(metres)\n",
       "2009-07-11 16:00:00          1.36\n",
       "2009-07-11 17:00:00           NaN\n",
       "2009-07-11 18:00:00           NaN\n",
       "2009-07-11 19:00:00           NaN\n",
       "2009-07-11 20:00:00           NaN\n",
       "...                           ...\n",
       "2009-08-16 03:00:00           NaN\n",
       "2009-08-16 04:00:00           NaN\n",
       "2009-08-16 05:00:00           NaN\n",
       "2009-08-16 06:00:00           NaN\n",
       "2009-08-16 07:00:00           NaN\n",
       "\n",
       "[856 rows x 1 columns]"
      ]
     },
     "execution_count": 20,
     "metadata": {},
     "output_type": "execute_result"
    }
   ],
   "source": [
    "df[\"2009-07-11 16:00:00\" :\"2009-08-16 07:00\"]"
   ]
  },
  {
   "cell_type": "markdown",
   "metadata": {},
   "source": [
    "Based on the above, it appears that missing data creates the problem rather than an issue with the raw data. UTides was developed with this issue in mind:\n",
    "\n",
    "### From the UTides docs:\n",
    "\n",
    "\"The primary goal is to develop a tidal analysis approach and accompanying software tool (“UTide”) that (a) integrates several existing tidal analysis methods with each other (Table 1), and (b) includes enhancements specifically designed to enable treatment of multi-year records with irregular temporal sampling.\"\n",
    "\n",
    "What are the parameter adjustments within the code that can help with the tidal analysis on an extremely irregular timeseries?\n",
    "\n",
    "Potential adjustments to the ut_solve parameter set:\n",
    "* \"When the times are irregular a crude but practical approach to being conservative,in the sense of omitting constituents that might not be resolved from each other, is to use the same diagnostics but judge them in relation to different threshold values. For example, if the Rayleigh criteria ((81),(82)) are used with R min =1 for a uniformly 37 sampled record, then for an irregularly sampled record an R min value higher than 1 can be used, in order to be more stringent in omitting constituents\" (p. 37)\n"
   ]
  },
  {
   "cell_type": "markdown",
   "metadata": {},
   "source": [
    "#### Adjusting the Rayleigh criteria.\n",
    "\n",
    "Default example from the github page set Rayleight number to 0.95. Docs suggest R_min = 1 for evenly spaced data, and higher values for irregular data."
   ]
  },
  {
   "cell_type": "code",
   "execution_count": 105,
   "metadata": {},
   "outputs": [],
   "source": [
    "def tidal_analysis(ser, latitude):\n",
    "    \"\"\" Wrapper function for tidal analsyis with UTide.\n",
    "\n",
    "    Parameters\n",
    "    ----------\n",
    "    ser : `pandas.Series`\n",
    "        Input sea level time seriesl.\n",
    "    lat : float\n",
    "        Latitude of tide gauge.\n",
    "\n",
    "    Returns\n",
    "    -------\n",
    "    df_out : `pandas.DataFrame\n",
    "        Tidal amplitudes and phases with confidence interval. Each row is for\n",
    "        one tidal constituent.\n",
    "    \n",
    "    \"\"\"\n",
    "        \n",
    "    # make a time variable in floating point days since a given epoch\n",
    "    time = mdates.date2num(ser.index.to_pydatetime())\n",
    "    \n",
    "    # make sure there are some sea level values\n",
    "    if not ser.isnull().all():\n",
    "    \n",
    "        # use UTide to run tidal analysis\n",
    "        coef = solve(\n",
    "            time, ser.values,   # input variables: time and sea level as numpy arrays\n",
    "            lat=latitude,       # latitude of tide gauge\n",
    "            nodal=False,       \n",
    "            trend=False,\n",
    "            method=\"ols\",\n",
    "            conf_int=\"linear\",\n",
    "            Rayleigh_min=1.0,\n",
    "            verbose=False       # no messages\n",
    "        )\n",
    "\n",
    "        # combine amplitudes and phases and their confidence interval in `numpy.Array`\n",
    "        data = np.c_[coef[\"A\"], coef[\"A_ci\"], coef[\"g\"], coef[\"g_ci\"]]\n",
    "        \n",
    "        # index\n",
    "        index = coef[\"name\"]\n",
    "    \n",
    "    # if `ser` only contains NaNs, return empty `pandas.DataFrame`\n",
    "    else:\n",
    "        data = None\n",
    "        index = None\n",
    "        \n",
    "    \n",
    "    # create output `pandas.DataFrame\n",
    "    df_out = pd.DataFrame(\n",
    "        data=data,\n",
    "        index=index,\n",
    "        columns=[\"A\", \"A_ci\", \"g\", \"g_ci\"]\n",
    "    )\n",
    "    \n",
    "    return df_out"
   ]
  },
  {
   "cell_type": "code",
   "execution_count": 106,
   "metadata": {},
   "outputs": [],
   "source": [
    "result = df[\"SLEV(metres)\"].loc[\"2010\":\"2021\"].groupby(pd.Grouper(freq=\"M\")).apply(lambda x: tidal_analysis(x, lat))\n",
    "result.index.set_names([\"time\", \"constituent\"], inplace=True)\n",
    "\n",
    "ds = result.to_xarray()"
   ]
  },
  {
   "cell_type": "markdown",
   "metadata": {},
   "source": [
    "### Figure: Monthly M2 Amplitudes 2009-2021 **R_min = 1**"
   ]
  },
  {
   "cell_type": "code",
   "execution_count": 107,
   "metadata": {},
   "outputs": [
    {
     "data": {
      "text/plain": [
       "[Text(0.5, 1.0, 'Monthly M2 Tidal Amplitude'),\n",
       " Text(0, 0.5, 'M2 Tidal Amplitude [m]')]"
      ]
     },
     "execution_count": 107,
     "metadata": {},
     "output_type": "execute_result"
    },
    {
     "data": {
      "image/png": "[encoded data removed]",
      "text/plain": [
       "<Figure size 1080x360 with 1 Axes>"
      ]
     },
     "metadata": {
      "needs_background": "light"
     },
     "output_type": "display_data"
    }
   ],
   "source": [
    "fig, ax = plt.subplots(1, 1, figsize=(15, 5))\n",
    "\n",
    "constituent = \"M2\"\n",
    "\n",
    "# monthly tidal amplitude and confidence intervals\n",
    "ax.errorbar(\n",
    "    ds[\"time\"].values, ds[\"A\"].sel(constituent=constituent),\n",
    "    yerr=ds[\"A_ci\"].sel(constituent=constituent),\n",
    "    fmt=\"o\"\n",
    ")\n",
    "\n",
    "# title and axis label\n",
    "ax.set(\n",
    "    title=f\"Monthly {constituent} Tidal Amplitude\",\n",
    "    ylabel=f\"{constituent} Tidal Amplitude [m]\",\n",
    ")"
   ]
  },
  {
   "cell_type": "markdown",
   "metadata": {},
   "source": [
    "Helps for the year 2009, but still breaks when the record is extended further back. \n",
    "\n",
    "For the R_min = 0.95 (default) In 2009, the anomalously large amplitude is 1.3 meters - but the tidal analysis estimates **much** larger tidal amplitudes for other parts of the record. For example, if we look at 2007, the values are absolutely nuts:"
   ]
  },
  {
   "cell_type": "code",
   "execution_count": 108,
   "metadata": {},
   "outputs": [
    {
     "name": "stderr",
     "output_type": "stream",
     "text": [
      "/Users/dilemmajayne/opt/anaconda3/lib/python3.7/site-packages/utide/confidence.py:243: RuntimeWarning: invalid value encountered in sqrt\n",
      "  sig1, sig2 = ut_linci(Xu[c], Yu[c], np.sqrt(varXu), np.sqrt(varYu))\n"
     ]
    }
   ],
   "source": [
    "# pandas magic\n",
    "result = df[\"SLEV(metres)\"].loc[\"2007\":\"2009\"].groupby(pd.Grouper(freq=\"M\")).apply(lambda x: tidal_analysis(x, lat))\n",
    "result.index.set_names([\"time\", \"constituent\"], inplace=True)\n",
    "\n",
    "ds = result.to_xarray()"
   ]
  },
  {
   "cell_type": "markdown",
   "metadata": {},
   "source": [
    "#### Figure: Monthly M2 Amplitudes 2007-2008 **R_min = 1**"
   ]
  },
  {
   "cell_type": "code",
   "execution_count": 109,
   "metadata": {},
   "outputs": [
    {
     "data": {
      "text/plain": [
       "[Text(0.5, 1.0, 'Monthly M2 Tidal Amplitude'),\n",
       " Text(0, 0.5, 'M2 Tidal Amplitude [m]')]"
      ]
     },
     "execution_count": 109,
     "metadata": {},
     "output_type": "execute_result"
    },
    {
     "data": {
      "image/png": "[encoded data removed]",
      "text/plain": [
       "<Figure size 1080x360 with 1 Axes>"
      ]
     },
     "metadata": {
      "needs_background": "light"
     },
     "output_type": "display_data"
    }
   ],
   "source": [
    "# create figure with one subplot axis with size 15x5 inches\n",
    "fig, ax = plt.subplots(1, 1, figsize=(15, 5))\n",
    "\n",
    "constituent = \"M2\"\n",
    "\n",
    "# monthly tidal amplitude and confidence intervals\n",
    "ax.errorbar(\n",
    "    ds[\"time\"].values, ds[\"A\"].sel(constituent=constituent),\n",
    "    yerr=ds[\"A_ci\"].sel(constituent=constituent),\n",
    "    fmt=\"o\"\n",
    ")\n",
    "\n",
    "# title and axis label\n",
    "ax.set(\n",
    "    title=f\"Monthly {constituent} Tidal Amplitude\",\n",
    "    ylabel=f\"{constituent} Tidal Amplitude [m]\",\n",
    ")"
   ]
  },
  {
   "cell_type": "markdown",
   "metadata": {},
   "source": [
    "*What happens as you continue to adjust the R_min paramter?*\n",
    "\n",
    "* R_min 1-1.1 : results are identical to the plot above ^^\n",
    "* R_min 1.2-2: plot looks like the one above, but the outlier position moves from 3500 m to 12000 m (worse!)\n",
    "* R_min 2.1-20: all of the binned M2 amplitudes are <= 1 m; but the error bars are huge. "
   ]
  },
  {
   "cell_type": "code",
   "execution_count": 169,
   "metadata": {},
   "outputs": [],
   "source": [
    "def tidal_analysis(ser, latitude):\n",
    "    \"\"\" Wrapper function for tidal analsyis with UTide.\n",
    "\n",
    "    Parameters\n",
    "    ----------\n",
    "    ser : `pandas.Series`\n",
    "        Input sea level time seriesl.\n",
    "    lat : float\n",
    "        Latitude of tide gauge.\n",
    "\n",
    "    Returns\n",
    "    -------\n",
    "    df_out : `pandas.DataFrame\n",
    "        Tidal amplitudes and phases with confidence interval. Each row is for\n",
    "        one tidal constituent.\n",
    "    \n",
    "    \"\"\"\n",
    "        \n",
    "    # make a time variable in floating point days since a given epoch\n",
    "    time = mdates.date2num(ser.index.to_pydatetime())\n",
    "    \n",
    "    # make sure there are some sea level values\n",
    "    if not ser.isnull().all():\n",
    "    \n",
    "        # use UTide to run tidal analysis\n",
    "        coef = solve(\n",
    "            time, ser.values,   # input variables: time and sea level as numpy arrays\n",
    "            lat=latitude,       # latitude of tide gauge\n",
    "            nodal=False,       \n",
    "            trend=False,\n",
    "            method=\"ols\",\n",
    "            conf_int=\"linear\",\n",
    "            Rayleigh_min=2.1,\n",
    "            verbose=False       # no messages\n",
    "        )\n",
    "\n",
    "        # combine amplitudes and phases and their confidence interval in `numpy.Array`\n",
    "        data = np.c_[coef[\"A\"], coef[\"A_ci\"], coef[\"g\"], coef[\"g_ci\"]]\n",
    "        \n",
    "        # index\n",
    "        index = coef[\"name\"]\n",
    "    \n",
    "    # if `ser` only contains NaNs, return empty `pandas.DataFrame`\n",
    "    else:\n",
    "        data = None\n",
    "        index = None\n",
    "        \n",
    "    \n",
    "    # create output `pandas.DataFrame\n",
    "    df_out = pd.DataFrame(\n",
    "        data=data,\n",
    "        index=index,\n",
    "        columns=[\"A\", \"A_ci\", \"g\", \"g_ci\"]\n",
    "    )\n",
    "    \n",
    "    return df_out"
   ]
  },
  {
   "cell_type": "code",
   "execution_count": 170,
   "metadata": {},
   "outputs": [],
   "source": [
    "result = df[\"SLEV(metres)\"].loc[\"2007\":\"2009\"].groupby(pd.Grouper(freq=\"M\")).apply(lambda x: tidal_analysis(x, lat))\n",
    "result.index.set_names([\"time\", \"constituent\"], inplace=True)\n",
    "\n",
    "ds = result.to_xarray()"
   ]
  },
  {
   "cell_type": "code",
   "execution_count": 171,
   "metadata": {},
   "outputs": [
    {
     "data": {
      "text/plain": [
       "[Text(0.5, 1.0, 'Monthly M2 Tidal Amplitude'),\n",
       " Text(0, 0.5, 'M2 Tidal Amplitude [m]')]"
      ]
     },
     "execution_count": 171,
     "metadata": {},
     "output_type": "execute_result"
    },
    {
     "data": {
      "image/png": "[encoded data removed]",
      "text/plain": [
       "<Figure size 1080x360 with 1 Axes>"
      ]
     },
     "metadata": {
      "needs_background": "light"
     },
     "output_type": "display_data"
    }
   ],
   "source": [
    "# create figure with one subplot axis with size 15x5 inches\n",
    "fig, ax = plt.subplots(1, 1, figsize=(15, 5))\n",
    "\n",
    "constituent = \"M2\"\n",
    "\n",
    "# monthly tidal amplitude and confidence intervals\n",
    "ax.errorbar(\n",
    "    ds[\"time\"].values, ds[\"A\"].sel(constituent=constituent),\n",
    "    yerr=ds[\"A_ci\"].sel(constituent=constituent),\n",
    "    fmt=\"o\"\n",
    ")\n",
    "\n",
    "# title and axis label\n",
    "ax.set(\n",
    "    title=f\"Monthly {constituent} Tidal Amplitude\",\n",
    "    ylabel=f\"{constituent} Tidal Amplitude [m]\",\n",
    ")"
   ]
  },
  {
   "cell_type": "markdown",
   "metadata": {},
   "source": [
    "**Adjusting the R_min to 2.1 or higher makes it impossible to see any trends in the full record.**"
   ]
  },
  {
   "cell_type": "markdown",
   "metadata": {},
   "source": [
    "### Monthly M2 Amplitude for the entire record:"
   ]
  },
  {
   "cell_type": "code",
   "execution_count": 172,
   "metadata": {},
   "outputs": [
    {
     "name": "stderr",
     "output_type": "stream",
     "text": [
      "/Users/dilemmajayne/opt/anaconda3/lib/python3.7/site-packages/utide/confidence.py:243: RuntimeWarning: invalid value encountered in sqrt\n",
      "  sig1, sig2 = ut_linci(Xu[c], Yu[c], np.sqrt(varXu), np.sqrt(varYu))\n",
      "/Users/dilemmajayne/opt/anaconda3/lib/python3.7/site-packages/utide/confidence.py:240: RuntimeWarning: invalid value encountered in double_scalars\n",
      "  varXu = Puu[c] * varXu / den\n",
      "/Users/dilemmajayne/opt/anaconda3/lib/python3.7/site-packages/utide/confidence.py:241: RuntimeWarning: invalid value encountered in double_scalars\n",
      "  varYu = Puu[c] * varYu / den\n"
     ]
    }
   ],
   "source": [
    "# pandas magic\n",
    "result = df[\"SLEV(metres)\"].loc[\"1963\":\"2021\"].groupby(pd.Grouper(freq=\"M\")).apply(lambda x: tidal_analysis(x, lat))\n",
    "result.index.set_names([\"time\", \"constituent\"], inplace=True)\n",
    "\n",
    "ds = result.to_xarray()"
   ]
  },
  {
   "cell_type": "code",
   "execution_count": 173,
   "metadata": {},
   "outputs": [
    {
     "data": {
      "text/plain": [
       "[Text(0.5, 1.0, 'Annual M2 Tidal Amplitude'),\n",
       " Text(0, 0.5, 'M2 Tidal Amplitude [m]')]"
      ]
     },
     "execution_count": 173,
     "metadata": {},
     "output_type": "execute_result"
    },
    {
     "data": {
      "image/png": "[encoded data removed]",
      "text/plain": [
       "<Figure size 1080x360 with 1 Axes>"
      ]
     },
     "metadata": {
      "needs_background": "light"
     },
     "output_type": "display_data"
    }
   ],
   "source": [
    "fig, ax = plt.subplots(1, 1, figsize=(15, 5))\n",
    "\n",
    "constituent = \"M2\"\n",
    "\n",
    "# monthly tidal amplitude and confidence intervals\n",
    "ax.errorbar(\n",
    "    ds[\"time\"].values, ds[\"A\"].sel(constituent=constituent),\n",
    "    yerr=ds[\"A_ci\"].sel(constituent=constituent),\n",
    "    fmt=\"o\"\n",
    ")\n",
    "\n",
    "# title and axis label\n",
    "ax.set(\n",
    "    title=f\"Annual {constituent} Tidal Amplitude\",\n",
    "    ylabel=f\"{constituent} Tidal Amplitude [m]\",\n",
    ")"
   ]
  },
  {
   "cell_type": "markdown",
   "metadata": {},
   "source": [
    "### Restricting the visualization to the \"reasonable\" results range:"
   ]
  },
  {
   "cell_type": "code",
   "execution_count": 174,
   "metadata": {},
   "outputs": [
    {
     "data": {
      "text/plain": [
       "[Text(0.5, 1.0, 'Annual M2 Tidal Amplitude'),\n",
       " Text(0, 0.5, 'M2 Tidal Amplitude [m]'),\n",
       " (0.6, 0.9)]"
      ]
     },
     "execution_count": 174,
     "metadata": {},
     "output_type": "execute_result"
    },
    {
     "data": {
      "image/png": "[encoded data removed]",
      "text/plain": [
       "<Figure size 1080x360 with 1 Axes>"
      ]
     },
     "metadata": {
      "needs_background": "light"
     },
     "output_type": "display_data"
    }
   ],
   "source": [
    "fig, ax = plt.subplots(1, 1, figsize=(15, 5))\n",
    "\n",
    "constituent = \"M2\"\n",
    "\n",
    "# monthly tidal amplitude and confidence intervals\n",
    "ax.errorbar(\n",
    "    ds[\"time\"].values, ds[\"A\"].sel(constituent=constituent),\n",
    "    yerr=ds[\"A_ci\"].sel(constituent=constituent),\n",
    "    fmt=\"o\"\n",
    ")\n",
    "\n",
    "# title and axis label\n",
    "ax.set(\n",
    "    title=f\"Annual {constituent} Tidal Amplitude\",\n",
    "    ylabel=f\"{constituent} Tidal Amplitude [m]\",\n",
    "    ylim=(0.6,0.9)\n",
    ")"
   ]
  },
  {
   "cell_type": "markdown",
   "metadata": {},
   "source": [
    "### Compared to what you can see with R_min = 1"
   ]
  },
  {
   "cell_type": "code",
   "execution_count": 175,
   "metadata": {},
   "outputs": [],
   "source": [
    "def tidal_analysis(ser, latitude):\n",
    "    \"\"\" Wrapper function for tidal analsyis with UTide.\n",
    "\n",
    "    Parameters\n",
    "    ----------\n",
    "    ser : `pandas.Series`\n",
    "        Input sea level time seriesl.\n",
    "    lat : float\n",
    "        Latitude of tide gauge.\n",
    "\n",
    "    Returns\n",
    "    -------\n",
    "    df_out : `pandas.DataFrame\n",
    "        Tidal amplitudes and phases with confidence interval. Each row is for\n",
    "        one tidal constituent.\n",
    "    \n",
    "    \"\"\"\n",
    "        \n",
    "    # make a time variable in floating point days since a given epoch\n",
    "    time = mdates.date2num(ser.index.to_pydatetime())\n",
    "    \n",
    "    # make sure there are some sea level values\n",
    "    if not ser.isnull().all():\n",
    "    \n",
    "        # use UTide to run tidal analysis\n",
    "        coef = solve(\n",
    "            time, ser.values,   # input variables: time and sea level as numpy arrays\n",
    "            lat=latitude,       # latitude of tide gauge\n",
    "            nodal=False,       \n",
    "            trend=False,\n",
    "            method=\"ols\",\n",
    "            conf_int=\"linear\",\n",
    "            Rayleigh_min=1.0,\n",
    "            verbose=False       # no messages\n",
    "        )\n",
    "\n",
    "        # combine amplitudes and phases and their confidence interval in `numpy.Array`\n",
    "        data = np.c_[coef[\"A\"], coef[\"A_ci\"], coef[\"g\"], coef[\"g_ci\"]]\n",
    "        \n",
    "        # index\n",
    "        index = coef[\"name\"]\n",
    "    \n",
    "    # if `ser` only contains NaNs, return empty `pandas.DataFrame`\n",
    "    else:\n",
    "        data = None\n",
    "        index = None\n",
    "        \n",
    "    \n",
    "    # create output `pandas.DataFrame\n",
    "    df_out = pd.DataFrame(\n",
    "        data=data,\n",
    "        index=index,\n",
    "        columns=[\"A\", \"A_ci\", \"g\", \"g_ci\"]\n",
    "    )\n",
    "    \n",
    "    return df_out"
   ]
  },
  {
   "cell_type": "code",
   "execution_count": 176,
   "metadata": {},
   "outputs": [
    {
     "name": "stderr",
     "output_type": "stream",
     "text": [
      "/Users/dilemmajayne/opt/anaconda3/lib/python3.7/site-packages/utide/confidence.py:243: RuntimeWarning: invalid value encountered in sqrt\n",
      "  sig1, sig2 = ut_linci(Xu[c], Yu[c], np.sqrt(varXu), np.sqrt(varYu))\n",
      "/Users/dilemmajayne/opt/anaconda3/lib/python3.7/site-packages/utide/confidence.py:240: RuntimeWarning: invalid value encountered in double_scalars\n",
      "  varXu = Puu[c] * varXu / den\n",
      "/Users/dilemmajayne/opt/anaconda3/lib/python3.7/site-packages/utide/confidence.py:241: RuntimeWarning: invalid value encountered in double_scalars\n",
      "  varYu = Puu[c] * varYu / den\n"
     ]
    }
   ],
   "source": [
    "result = df[\"SLEV(metres)\"].loc[\"1963\":\"2021\"].groupby(pd.Grouper(freq=\"M\")).apply(lambda x: tidal_analysis(x, lat))\n",
    "result.index.set_names([\"time\", \"constituent\"], inplace=True)\n",
    "\n",
    "ds = result.to_xarray()"
   ]
  },
  {
   "cell_type": "markdown",
   "metadata": {},
   "source": [
    "Still get the same outlier dominated full record - compare the outlier at y=7000 for R_min=2 with y=700000000 for R_min=1"
   ]
  },
  {
   "cell_type": "code",
   "execution_count": 177,
   "metadata": {},
   "outputs": [
    {
     "data": {
      "text/plain": [
       "[Text(0.5, 1.0, 'Annual M2 Tidal Amplitude'),\n",
       " Text(0, 0.5, 'M2 Tidal Amplitude [m]')]"
      ]
     },
     "execution_count": 177,
     "metadata": {},
     "output_type": "execute_result"
    },
    {
     "data": {
      "image/png": "[encoded data removed]",
      "text/plain": [
       "<Figure size 1080x360 with 1 Axes>"
      ]
     },
     "metadata": {
      "needs_background": "light"
     },
     "output_type": "display_data"
    }
   ],
   "source": [
    "fig, ax = plt.subplots(1, 1, figsize=(15, 5))\n",
    "\n",
    "constituent = \"M2\"\n",
    "\n",
    "# monthly tidal amplitude and confidence intervals\n",
    "ax.errorbar(\n",
    "    ds[\"time\"].values, ds[\"A\"].sel(constituent=constituent),\n",
    "    yerr=ds[\"A_ci\"].sel(constituent=constituent),\n",
    "    fmt=\"o\"\n",
    ")\n",
    "\n",
    "# title and axis label\n",
    "ax.set(\n",
    "    title=f\"Annual {constituent} Tidal Amplitude\",\n",
    "    ylabel=f\"{constituent} Tidal Amplitude [m]\",\n",
    ")"
   ]
  },
  {
   "cell_type": "markdown",
   "metadata": {},
   "source": [
    "But with R_min=1 you can see trends that are lost when R_min=2 and the confidence intervals increase significantly"
   ]
  },
  {
   "cell_type": "code",
   "execution_count": 178,
   "metadata": {},
   "outputs": [
    {
     "data": {
      "text/plain": [
       "[Text(0.5, 1.0, 'Annual M2 Tidal Amplitude'),\n",
       " Text(0, 0.5, 'M2 Tidal Amplitude [m]'),\n",
       " (0.6, 0.9)]"
      ]
     },
     "execution_count": 178,
     "metadata": {},
     "output_type": "execute_result"
    },
    {
     "data": {
      "image/png": "[encoded data removed]",
      "text/plain": [
       "<Figure size 1080x360 with 1 Axes>"
      ]
     },
     "metadata": {
      "needs_background": "light"
     },
     "output_type": "display_data"
    }
   ],
   "source": [
    "fig, ax = plt.subplots(1, 1, figsize=(15, 5))\n",
    "\n",
    "constituent = \"M2\"\n",
    "\n",
    "# monthly tidal amplitude and confidence intervals\n",
    "ax.errorbar(\n",
    "    ds[\"time\"].values, ds[\"A\"].sel(constituent=constituent),\n",
    "    yerr=ds[\"A_ci\"].sel(constituent=constituent),\n",
    "    fmt=\"o\"\n",
    ")\n",
    "\n",
    "# title and axis label\n",
    "ax.set(\n",
    "    title=f\"Annual {constituent} Tidal Amplitude\",\n",
    "    ylabel=f\"{constituent} Tidal Amplitude [m]\",\n",
    "    ylim=(0.6,0.9)\n",
    ")"
   ]
  },
  {
   "cell_type": "markdown",
   "metadata": {},
   "source": [
    "NB I also tried adjusting *how* the confidence intervals are calculated (option for linear or Monte Carlo) but the MC approach breaks the operation."
   ]
  },
  {
   "cell_type": "markdown",
   "metadata": {},
   "source": [
    "### From the UTide docs:\n",
    "\n",
    "* \"In the case of irregular times, the spectral estimates are made using the un-normalized, mean-removed, Lomb-Scargle periodogram (Lomb 1976; Scargle 1982; Press et al. 1992). Calculation of the Lomb-Scargle periodogram requires specification of a frequency oversampling factor, the amount by which the grid of frequencies at which the periodogram estimates are computed is more dense than an equivalent FFT.\"\n",
    "\n",
    "^^ This does not appear to be a parameter that you adjust. It must be automatically detecting whether the timestamps are linear or irregular?\n",
    "\n",
    "To test this, I'm going to reload the dataset **without** reindexing it:"
   ]
  },
  {
   "cell_type": "code",
   "execution_count": 202,
   "metadata": {},
   "outputs": [],
   "source": [
    "# read data into `pandas.DataFrame`\n",
    "df = pd.read_csv(\n",
    "    'DFO1430_full.csv',                         # Data downloaded from DFO 1430\n",
    "    header=7,                                   # Seven line header\n",
    "    parse_dates=[['Obs_date', 'Obs_time']],     # Identify date & time columns\n",
    ")\n",
    "\n",
    "# convert columns with date/time information to datetime object\n",
    "df[\"time\"] = pd.to_datetime(df[\"Obs_date_Obs_time\"])\n",
    "\n",
    "# remove the columns with date/time information\n",
    "df = df.drop([\"Obs_date_Obs_time\"], axis=1)\n",
    "\n",
    "# use the datetime object as index\n",
    "df = df.set_index(\"time\")"
   ]
  },
  {
   "cell_type": "code",
   "execution_count": 203,
   "metadata": {},
   "outputs": [
    {
     "data": {
      "text/html": [
       "<div>\n",
       "<style scoped>\n",
       "    .dataframe tbody tr th:only-of-type {\n",
       "        vertical-align: middle;\n",
       "    }\n",
       "\n",
       "    .dataframe tbody tr th {\n",
       "        vertical-align: top;\n",
       "    }\n",
       "\n",
       "    .dataframe thead th {\n",
       "        text-align: right;\n",
       "    }\n",
       "</style>\n",
       "<table border=\"1\" class=\"dataframe\">\n",
       "  <thead>\n",
       "    <tr style=\"text-align: right;\">\n",
       "      <th></th>\n",
       "      <th>SLEV(metres)</th>\n",
       "    </tr>\n",
       "    <tr>\n",
       "      <th>time</th>\n",
       "      <th></th>\n",
       "    </tr>\n",
       "  </thead>\n",
       "  <tbody>\n",
       "    <tr>\n",
       "      <td>1963-10-17 05:00:00</td>\n",
       "      <td>0.53</td>\n",
       "    </tr>\n",
       "    <tr>\n",
       "      <td>1963-10-17 06:00:00</td>\n",
       "      <td>0.65</td>\n",
       "    </tr>\n",
       "    <tr>\n",
       "      <td>1963-10-17 07:00:00</td>\n",
       "      <td>0.97</td>\n",
       "    </tr>\n",
       "    <tr>\n",
       "      <td>1963-10-17 08:00:00</td>\n",
       "      <td>1.38</td>\n",
       "    </tr>\n",
       "    <tr>\n",
       "      <td>1963-10-17 09:00:00</td>\n",
       "      <td>1.87</td>\n",
       "    </tr>\n",
       "    <tr>\n",
       "      <td>1963-10-17 10:00:00</td>\n",
       "      <td>2.33</td>\n",
       "    </tr>\n",
       "    <tr>\n",
       "      <td>1963-10-17 11:00:00</td>\n",
       "      <td>2.53</td>\n",
       "    </tr>\n",
       "    <tr>\n",
       "      <td>1963-10-17 12:00:00</td>\n",
       "      <td>2.47</td>\n",
       "    </tr>\n",
       "    <tr>\n",
       "      <td>1963-10-17 13:00:00</td>\n",
       "      <td>2.19</td>\n",
       "    </tr>\n",
       "    <tr>\n",
       "      <td>1963-10-17 14:00:00</td>\n",
       "      <td>1.75</td>\n",
       "    </tr>\n",
       "  </tbody>\n",
       "</table>\n",
       "</div>"
      ],
      "text/plain": [
       "                     SLEV(metres)\n",
       "time                             \n",
       "1963-10-17 05:00:00          0.53\n",
       "1963-10-17 06:00:00          0.65\n",
       "1963-10-17 07:00:00          0.97\n",
       "1963-10-17 08:00:00          1.38\n",
       "1963-10-17 09:00:00          1.87\n",
       "1963-10-17 10:00:00          2.33\n",
       "1963-10-17 11:00:00          2.53\n",
       "1963-10-17 12:00:00          2.47\n",
       "1963-10-17 13:00:00          2.19\n",
       "1963-10-17 14:00:00          1.75"
      ]
     },
     "execution_count": 203,
     "metadata": {},
     "output_type": "execute_result"
    }
   ],
   "source": [
    "df.head(10)"
   ]
  },
  {
   "cell_type": "markdown",
   "metadata": {},
   "source": [
    "### Figure: M2 Amplitude for the entire record"
   ]
  },
  {
   "cell_type": "code",
   "execution_count": 205,
   "metadata": {},
   "outputs": [],
   "source": [
    "result = df[\"SLEV(metres)\"].loc[\"1963\":\"2021\"].groupby(pd.Grouper(freq=\"M\")).apply(lambda x: tidal_analysis(x, lat))\n",
    "result.index.set_names([\"time\", \"constituent\"], inplace=True)\n",
    "\n",
    "ds = result.to_xarray()"
   ]
  },
  {
   "cell_type": "code",
   "execution_count": 206,
   "metadata": {},
   "outputs": [
    {
     "data": {
      "text/plain": [
       "[Text(0.5, 1.0, 'Annual M2 Tidal Amplitude'),\n",
       " Text(0, 0.5, 'M2 Tidal Amplitude [m]')]"
      ]
     },
     "execution_count": 206,
     "metadata": {},
     "output_type": "execute_result"
    },
    {
     "data": {
      "image/png": "[encoded data removed]",
      "text/plain": [
       "<Figure size 1080x360 with 1 Axes>"
      ]
     },
     "metadata": {
      "needs_background": "light"
     },
     "output_type": "display_data"
    }
   ],
   "source": [
    "fig, ax = plt.subplots(1, 1, figsize=(15, 5))\n",
    "\n",
    "constituent = \"M2\"\n",
    "\n",
    "# monthly tidal amplitude and confidence intervals\n",
    "ax.errorbar(\n",
    "    ds[\"time\"].values, ds[\"A\"].sel(constituent=constituent),\n",
    "    yerr=ds[\"A_ci\"].sel(constituent=constituent),\n",
    "    fmt=\"o\"\n",
    ")\n",
    "\n",
    "# title and axis label\n",
    "ax.set(\n",
    "    title=f\"Annual {constituent} Tidal Amplitude\",\n",
    "    ylabel=f\"{constituent} Tidal Amplitude [m]\",\n",
    ")"
   ]
  },
  {
   "cell_type": "markdown",
   "metadata": {},
   "source": [
    "Pretty similar to the reindexed data, but the confidence intervals are larger when you zoom in:"
   ]
  },
  {
   "cell_type": "code",
   "execution_count": 207,
   "metadata": {},
   "outputs": [
    {
     "data": {
      "text/plain": [
       "[Text(0.5, 1.0, 'Annual M2 Tidal Amplitude'),\n",
       " Text(0, 0.5, 'M2 Tidal Amplitude [m]'),\n",
       " (0.6, 0.9)]"
      ]
     },
     "execution_count": 207,
     "metadata": {},
     "output_type": "execute_result"
    },
    {
     "data": {
      "image/png": "[encoded data removed]",
      "text/plain": [
       "<Figure size 1080x360 with 1 Axes>"
      ]
     },
     "metadata": {
      "needs_background": "light"
     },
     "output_type": "display_data"
    }
   ],
   "source": [
    "fig, ax = plt.subplots(1, 1, figsize=(15, 5))\n",
    "\n",
    "constituent = \"M2\"\n",
    "\n",
    "# monthly tidal amplitude and confidence intervals\n",
    "ax.errorbar(\n",
    "    ds[\"time\"].values, ds[\"A\"].sel(constituent=constituent),\n",
    "    yerr=ds[\"A_ci\"].sel(constituent=constituent),\n",
    "    fmt=\"o\"\n",
    ")\n",
    "\n",
    "# title and axis label\n",
    "ax.set(\n",
    "    title=f\"Annual {constituent} Tidal Amplitude\",\n",
    "    ylabel=f\"{constituent} Tidal Amplitude [m]\",\n",
    "    ylim=(0.6,0.9)\n",
    ")"
   ]
  },
  {
   "cell_type": "markdown",
   "metadata": {},
   "source": [
    "### Figure: M2 Amplitude 2007-2022\n",
    "\n",
    "Recalling that 2007-2009 were problematic with the reindexed dataset "
   ]
  },
  {
   "cell_type": "code",
   "execution_count": 209,
   "metadata": {},
   "outputs": [],
   "source": [
    "result = df[\"SLEV(metres)\"].loc[\"2007\":\"2021\"].groupby(pd.Grouper(freq=\"M\")).apply(lambda x: tidal_analysis(x, lat))\n",
    "result.index.set_names([\"time\", \"constituent\"], inplace=True)\n",
    "\n",
    "ds = result.to_xarray()"
   ]
  },
  {
   "cell_type": "code",
   "execution_count": 210,
   "metadata": {},
   "outputs": [
    {
     "data": {
      "text/plain": [
       "[Text(0.5, 1.0, 'Annual M2 Tidal Amplitude'),\n",
       " Text(0, 0.5, 'M2 Tidal Amplitude [m]')]"
      ]
     },
     "execution_count": 210,
     "metadata": {},
     "output_type": "execute_result"
    },
    {
     "data": {
      "image/png": "[encoded data removed]",
      "text/plain": [
       "<Figure size 1080x360 with 1 Axes>"
      ]
     },
     "metadata": {
      "needs_background": "light"
     },
     "output_type": "display_data"
    }
   ],
   "source": [
    "fig, ax = plt.subplots(1, 1, figsize=(15, 5))\n",
    "\n",
    "constituent = \"M2\"\n",
    "\n",
    "# monthly tidal amplitude and confidence intervals\n",
    "ax.errorbar(\n",
    "    ds[\"time\"].values, ds[\"A\"].sel(constituent=constituent),\n",
    "    yerr=ds[\"A_ci\"].sel(constituent=constituent),\n",
    "    fmt=\"o\"\n",
    ")\n",
    "\n",
    "# title and axis label\n",
    "ax.set(\n",
    "    title=f\"Annual {constituent} Tidal Amplitude\",\n",
    "    ylabel=f\"{constituent} Tidal Amplitude [m]\",\n",
    ")"
   ]
  },
  {
   "cell_type": "markdown",
   "metadata": {},
   "source": [
    "### Figure: 1963-1990\n",
    "\n",
    "Looking only at the first part of the record:"
   ]
  },
  {
   "cell_type": "code",
   "execution_count": 211,
   "metadata": {},
   "outputs": [],
   "source": [
    "result = df[\"SLEV(metres)\"].loc[\"1963\":\"1990\"].groupby(pd.Grouper(freq=\"M\")).apply(lambda x: tidal_analysis(x, lat))\n",
    "result.index.set_names([\"time\", \"constituent\"], inplace=True)\n",
    "\n",
    "ds = result.to_xarray()"
   ]
  },
  {
   "cell_type": "code",
   "execution_count": 212,
   "metadata": {},
   "outputs": [
    {
     "data": {
      "text/plain": [
       "[Text(0.5, 1.0, 'Annual M2 Tidal Amplitude'),\n",
       " Text(0, 0.5, 'M2 Tidal Amplitude [m]')]"
      ]
     },
     "execution_count": 212,
     "metadata": {},
     "output_type": "execute_result"
    },
    {
     "data": {
      "image/png": "[encoded data removed]",
      "text/plain": [
       "<Figure size 1080x360 with 1 Axes>"
      ]
     },
     "metadata": {
      "needs_background": "light"
     },
     "output_type": "display_data"
    }
   ],
   "source": [
    "fig, ax = plt.subplots(1, 1, figsize=(15, 5))\n",
    "\n",
    "constituent = \"M2\"\n",
    "\n",
    "# monthly tidal amplitude and confidence intervals\n",
    "ax.errorbar(\n",
    "    ds[\"time\"].values, ds[\"A\"].sel(constituent=constituent),\n",
    "    yerr=ds[\"A_ci\"].sel(constituent=constituent),\n",
    "    fmt=\"o\"\n",
    ")\n",
    "\n",
    "# title and axis label\n",
    "ax.set(\n",
    "    title=f\"Annual {constituent} Tidal Amplitude\",\n",
    "    ylabel=f\"{constituent} Tidal Amplitude [m]\",\n",
    ")"
   ]
  },
  {
   "cell_type": "markdown",
   "metadata": {},
   "source": [
    "### Figure: 2001-2022\n",
    "\n",
    "And at the second half of the record:"
   ]
  },
  {
   "cell_type": "code",
   "execution_count": 213,
   "metadata": {},
   "outputs": [
    {
     "name": "stderr",
     "output_type": "stream",
     "text": [
      "/Users/dilemmajayne/opt/anaconda3/lib/python3.7/site-packages/utide/confidence.py:243: RuntimeWarning: invalid value encountered in sqrt\n",
      "  sig1, sig2 = ut_linci(Xu[c], Yu[c], np.sqrt(varXu), np.sqrt(varYu))\n"
     ]
    }
   ],
   "source": [
    "result = df[\"SLEV(metres)\"].loc[\"2001\":\"2022\"].groupby(pd.Grouper(freq=\"M\")).apply(lambda x: tidal_analysis(x, lat))\n",
    "result.index.set_names([\"time\", \"constituent\"], inplace=True)\n",
    "\n",
    "ds = result.to_xarray()"
   ]
  },
  {
   "cell_type": "code",
   "execution_count": 214,
   "metadata": {},
   "outputs": [
    {
     "data": {
      "text/plain": [
       "[Text(0.5, 1.0, 'Annual M2 Tidal Amplitude'),\n",
       " Text(0, 0.5, 'M2 Tidal Amplitude [m]')]"
      ]
     },
     "execution_count": 214,
     "metadata": {},
     "output_type": "execute_result"
    },
    {
     "data": {
      "image/png": "[encoded data removed]",
      "text/plain": [
       "<Figure size 1080x360 with 1 Axes>"
      ]
     },
     "metadata": {
      "needs_background": "light"
     },
     "output_type": "display_data"
    }
   ],
   "source": [
    "fig, ax = plt.subplots(1, 1, figsize=(15, 5))\n",
    "\n",
    "constituent = \"M2\"\n",
    "\n",
    "# monthly tidal amplitude and confidence intervals\n",
    "ax.errorbar(\n",
    "    ds[\"time\"].values, ds[\"A\"].sel(constituent=constituent),\n",
    "    yerr=ds[\"A_ci\"].sel(constituent=constituent),\n",
    "    fmt=\"o\"\n",
    ")\n",
    "\n",
    "# title and axis label\n",
    "ax.set(\n",
    "    title=f\"Annual {constituent} Tidal Amplitude\",\n",
    "    ylabel=f\"{constituent} Tidal Amplitude [m]\",\n",
    ")"
   ]
  },
  {
   "cell_type": "markdown",
   "metadata": {},
   "source": [
    "Just by **not** reindexing, most of the outliers are gone from the dataset! So UTides is automatically detecting whether the timeseries is irregular and choosing whether to solve the tidal components with a linear method or the Lomb-Scargle.\n",
    "\n",
    "Next, will try adjusting the R_min on the non-reindexed data:"
   ]
  },
  {
   "cell_type": "code",
   "execution_count": 215,
   "metadata": {},
   "outputs": [],
   "source": [
    "def tidal_analysis(ser, latitude):\n",
    "    \"\"\" Wrapper function for tidal analsyis with UTide.\n",
    "\n",
    "    Parameters\n",
    "    ----------\n",
    "    ser : `pandas.Series`\n",
    "        Input sea level time seriesl.\n",
    "    lat : float\n",
    "        Latitude of tide gauge.\n",
    "\n",
    "    Returns\n",
    "    -------\n",
    "    df_out : `pandas.DataFrame\n",
    "        Tidal amplitudes and phases with confidence interval. Each row is for\n",
    "        one tidal constituent.\n",
    "    \n",
    "    \"\"\"\n",
    "        \n",
    "    # make a time variable in floating point days since a given epoch\n",
    "    time = mdates.date2num(ser.index.to_pydatetime())\n",
    "    \n",
    "    # make sure there are some sea level values\n",
    "    if not ser.isnull().all():\n",
    "    \n",
    "        # use UTide to run tidal analysis\n",
    "        coef = solve(\n",
    "            time, ser.values,   # input variables: time and sea level as numpy arrays\n",
    "            lat=latitude,       # latitude of tide gauge\n",
    "            nodal=False,       \n",
    "            trend=False,\n",
    "            method=\"ols\",\n",
    "            conf_int=\"linear\",\n",
    "            Rayleigh_min=2.0,\n",
    "            verbose=False       # no messages\n",
    "        )\n",
    "\n",
    "        # combine amplitudes and phases and their confidence interval in `numpy.Array`\n",
    "        data = np.c_[coef[\"A\"], coef[\"A_ci\"], coef[\"g\"], coef[\"g_ci\"]]\n",
    "        \n",
    "        # index\n",
    "        index = coef[\"name\"]\n",
    "    \n",
    "    # if `ser` only contains NaNs, return empty `pandas.DataFrame`\n",
    "    else:\n",
    "        data = None\n",
    "        index = None\n",
    "        \n",
    "    \n",
    "    # create output `pandas.DataFrame\n",
    "    df_out = pd.DataFrame(\n",
    "        data=data,\n",
    "        index=index,\n",
    "        columns=[\"A\", \"A_ci\", \"g\", \"g_ci\"]\n",
    "    )\n",
    "    \n",
    "    return df_out"
   ]
  },
  {
   "cell_type": "markdown",
   "metadata": {},
   "source": [
    "### Second half of the record:"
   ]
  },
  {
   "cell_type": "code",
   "execution_count": 216,
   "metadata": {},
   "outputs": [],
   "source": [
    "result = df[\"SLEV(metres)\"].loc[\"2001\":\"2022\"].groupby(pd.Grouper(freq=\"M\")).apply(lambda x: tidal_analysis(x, lat))\n",
    "result.index.set_names([\"time\", \"constituent\"], inplace=True)\n",
    "\n",
    "ds = result.to_xarray()"
   ]
  },
  {
   "cell_type": "code",
   "execution_count": 217,
   "metadata": {},
   "outputs": [
    {
     "data": {
      "text/plain": [
       "[Text(0.5, 1.0, 'Annual M2 Tidal Amplitude'),\n",
       " Text(0, 0.5, 'M2 Tidal Amplitude [m]')]"
      ]
     },
     "execution_count": 217,
     "metadata": {},
     "output_type": "execute_result"
    },
    {
     "data": {
      "image/png": "[encoded data removed]",
      "text/plain": [
       "<Figure size 1080x360 with 1 Axes>"
      ]
     },
     "metadata": {
      "needs_background": "light"
     },
     "output_type": "display_data"
    }
   ],
   "source": [
    "fig, ax = plt.subplots(1, 1, figsize=(15, 5))\n",
    "\n",
    "constituent = \"M2\"\n",
    "\n",
    "# monthly tidal amplitude and confidence intervals\n",
    "ax.errorbar(\n",
    "    ds[\"time\"].values, ds[\"A\"].sel(constituent=constituent),\n",
    "    yerr=ds[\"A_ci\"].sel(constituent=constituent),\n",
    "    fmt=\"o\"\n",
    ")\n",
    "\n",
    "# title and axis label\n",
    "ax.set(\n",
    "    title=f\"Annual {constituent} Tidal Amplitude\",\n",
    "    ylabel=f\"{constituent} Tidal Amplitude [m]\",\n",
    ")"
   ]
  },
  {
   "cell_type": "markdown",
   "metadata": {},
   "source": [
    "### Full record:"
   ]
  },
  {
   "cell_type": "code",
   "execution_count": 218,
   "metadata": {},
   "outputs": [],
   "source": [
    "result = df[\"SLEV(metres)\"].loc[\"1963\":\"2022\"].groupby(pd.Grouper(freq=\"M\")).apply(lambda x: tidal_analysis(x, lat))\n",
    "result.index.set_names([\"time\", \"constituent\"], inplace=True)\n",
    "\n",
    "ds = result.to_xarray()"
   ]
  },
  {
   "cell_type": "code",
   "execution_count": 219,
   "metadata": {},
   "outputs": [
    {
     "data": {
      "text/plain": [
       "[Text(0.5, 1.0, 'Annual M2 Tidal Amplitude'),\n",
       " Text(0, 0.5, 'M2 Tidal Amplitude [m]')]"
      ]
     },
     "execution_count": 219,
     "metadata": {},
     "output_type": "execute_result"
    },
    {
     "data": {
      "image/png": "[encoded data removed]",
      "text/plain": [
       "<Figure size 1080x360 with 1 Axes>"
      ]
     },
     "metadata": {
      "needs_background": "light"
     },
     "output_type": "display_data"
    }
   ],
   "source": [
    "fig, ax = plt.subplots(1, 1, figsize=(15, 5))\n",
    "\n",
    "constituent = \"M2\"\n",
    "\n",
    "# monthly tidal amplitude and confidence intervals\n",
    "ax.errorbar(\n",
    "    ds[\"time\"].values, ds[\"A\"].sel(constituent=constituent),\n",
    "    yerr=ds[\"A_ci\"].sel(constituent=constituent),\n",
    "    fmt=\"o\"\n",
    ")\n",
    "\n",
    "# title and axis label\n",
    "ax.set(\n",
    "    title=f\"Annual {constituent} Tidal Amplitude\",\n",
    "    ylabel=f\"{constituent} Tidal Amplitude [m]\",\n",
    ")"
   ]
  },
  {
   "cell_type": "markdown",
   "metadata": {},
   "source": [
    "### Using \"Research Quality\" raw data from UHSLC:"
   ]
  },
  {
   "cell_type": "markdown",
   "metadata": {},
   "source": [
    "And since those large outliers match up with the outliers in the raw data, we can test this with the dataset from UHSLC which has been cleaned up:"
   ]
  },
  {
   "cell_type": "code",
   "execution_count": 225,
   "metadata": {},
   "outputs": [
    {
     "data": {
      "text/html": [
       "<div>\n",
       "<style scoped>\n",
       "    .dataframe tbody tr th:only-of-type {\n",
       "        vertical-align: middle;\n",
       "    }\n",
       "\n",
       "    .dataframe tbody tr th {\n",
       "        vertical-align: top;\n",
       "    }\n",
       "\n",
       "    .dataframe thead th {\n",
       "        text-align: right;\n",
       "    }\n",
       "</style>\n",
       "<table border=\"1\" class=\"dataframe\">\n",
       "  <thead>\n",
       "    <tr style=\"text-align: right;\">\n",
       "      <th></th>\n",
       "      <th>height</th>\n",
       "    </tr>\n",
       "    <tr>\n",
       "      <th>time</th>\n",
       "      <th></th>\n",
       "    </tr>\n",
       "  </thead>\n",
       "  <tbody>\n",
       "    <tr>\n",
       "      <td>1963-10-17 05:00:00</td>\n",
       "      <td>530.0</td>\n",
       "    </tr>\n",
       "    <tr>\n",
       "      <td>1963-10-17 06:00:00</td>\n",
       "      <td>650.0</td>\n",
       "    </tr>\n",
       "    <tr>\n",
       "      <td>1963-10-17 07:00:00</td>\n",
       "      <td>970.0</td>\n",
       "    </tr>\n",
       "    <tr>\n",
       "      <td>1963-10-17 08:00:00</td>\n",
       "      <td>1380.0</td>\n",
       "    </tr>\n",
       "    <tr>\n",
       "      <td>1963-10-17 09:00:00</td>\n",
       "      <td>1870.0</td>\n",
       "    </tr>\n",
       "    <tr>\n",
       "      <td>...</td>\n",
       "      <td>...</td>\n",
       "    </tr>\n",
       "    <tr>\n",
       "      <td>2018-12-31 19:00:00</td>\n",
       "      <td>1889.0</td>\n",
       "    </tr>\n",
       "    <tr>\n",
       "      <td>2018-12-31 20:00:00</td>\n",
       "      <td>1821.0</td>\n",
       "    </tr>\n",
       "    <tr>\n",
       "      <td>2018-12-31 21:00:00</td>\n",
       "      <td>1633.0</td>\n",
       "    </tr>\n",
       "    <tr>\n",
       "      <td>2018-12-31 22:00:00</td>\n",
       "      <td>1339.0</td>\n",
       "    </tr>\n",
       "    <tr>\n",
       "      <td>2018-12-31 23:00:00</td>\n",
       "      <td>1023.0</td>\n",
       "    </tr>\n",
       "  </tbody>\n",
       "</table>\n",
       "<p>231973 rows × 1 columns</p>\n",
       "</div>"
      ],
      "text/plain": [
       "                     height\n",
       "time                       \n",
       "1963-10-17 05:00:00   530.0\n",
       "1963-10-17 06:00:00   650.0\n",
       "1963-10-17 07:00:00   970.0\n",
       "1963-10-17 08:00:00  1380.0\n",
       "1963-10-17 09:00:00  1870.0\n",
       "...                     ...\n",
       "2018-12-31 19:00:00  1889.0\n",
       "2018-12-31 20:00:00  1821.0\n",
       "2018-12-31 21:00:00  1633.0\n",
       "2018-12-31 22:00:00  1339.0\n",
       "2018-12-31 23:00:00  1023.0\n",
       "\n",
       "[231973 rows x 1 columns]"
      ]
     },
     "execution_count": 225,
     "metadata": {},
     "output_type": "execute_result"
    }
   ],
   "source": [
    "# URL to dataset on UHSLC website\n",
    "url = \"http://uhslc.soest.hawaii.edu/data/csv/rqds/atlantic/hourly/h833a.csv\"\n",
    "\n",
    "# read data into `pandas.DataFrame`\n",
    "df = pd.read_csv(\n",
    "    url,                                              # URL to dataset on UHSLC website\n",
    "    header=None,                                      # the dataset doesn't have a header\n",
    "    names=[\"year\", \"month\", \"day\", \"hour\", \"height\"], # name columns\n",
    "    na_values=-32767                                  # set invalid values to NaN\n",
    ")\n",
    "\n",
    "# convert columns with date/time information to datetime object\n",
    "# https://pandas.pydata.org/docs/reference/api/pandas.to_datetime.html\n",
    "df[\"time\"] = pd.to_datetime(df[[\"year\", \"month\", \"day\", \"hour\"]])\n",
    "\n",
    "# use the datetime object as index (this will make things much easier)\n",
    "df = df.set_index(\"time\")\n",
    "\n",
    "# remove the columns with date/time information\n",
    "# (all the information is now contained in the index)\n",
    "df = df.drop([\"year\", \"month\", \"day\", \"hour\"], axis=1)\n",
    "df = df.dropna() # I checked and there are nans in this record - so I dropped them to make sure the timeseries is irregular\n",
    "df"
   ]
  },
  {
   "cell_type": "code",
   "execution_count": 226,
   "metadata": {},
   "outputs": [],
   "source": [
    "result = df[\"height\"].loc[\"1963\":\"2022\"].groupby(pd.Grouper(freq=\"M\")).apply(lambda x: tidal_analysis(x, lat))\n",
    "result.index.set_names([\"time\", \"constituent\"], inplace=True)\n",
    "\n",
    "ds = result.to_xarray()"
   ]
  },
  {
   "cell_type": "code",
   "execution_count": 228,
   "metadata": {},
   "outputs": [
    {
     "data": {
      "text/plain": [
       "[Text(0.5, 1.0, 'Annual M2 Tidal Amplitude'),\n",
       " Text(0, 0.5, 'M2 Tidal Amplitude [mm]')]"
      ]
     },
     "execution_count": 228,
     "metadata": {},
     "output_type": "execute_result"
    },
    {
     "data": {
      "image/png": "[encoded data removed]",
      "text/plain": [
       "<Figure size 1080x360 with 1 Axes>"
      ]
     },
     "metadata": {
      "needs_background": "light"
     },
     "output_type": "display_data"
    }
   ],
   "source": [
    "fig, ax = plt.subplots(1, 1, figsize=(15, 5))\n",
    "\n",
    "constituent = \"M2\"\n",
    "\n",
    "# monthly tidal amplitude and confidence intervals\n",
    "ax.errorbar(\n",
    "    ds[\"time\"].values, ds[\"A\"].sel(constituent=constituent),\n",
    "    yerr=ds[\"A_ci\"].sel(constituent=constituent),\n",
    "    fmt=\"o\"\n",
    ")\n",
    "\n",
    "# title and axis label\n",
    "ax.set(\n",
    "    title=f\"Annual {constituent} Tidal Amplitude\",\n",
    "    ylabel=f\"{constituent} Tidal Amplitude [mm]\",\n",
    ")"
   ]
  },
  {
   "cell_type": "markdown",
   "metadata": {},
   "source": [
    "Note that the differences in y-axis are because the DFO data is in [m] and the UHSLC data is in [mm].\n",
    "\n",
    "Another test to compare R_min of 1 vs R_min of 2 using the UHSLC data:"
   ]
  },
  {
   "cell_type": "code",
   "execution_count": 238,
   "metadata": {},
   "outputs": [],
   "source": [
    "def tidal_analysis(ser, latitude):\n",
    "    \"\"\" Wrapper function for tidal analsyis with UTide.\n",
    "\n",
    "    Parameters\n",
    "    ----------\n",
    "    ser : `pandas.Series`\n",
    "        Input sea level time seriesl.\n",
    "    lat : float\n",
    "        Latitude of tide gauge.\n",
    "\n",
    "    Returns\n",
    "    -------\n",
    "    df_out : `pandas.DataFrame\n",
    "        Tidal amplitudes and phases with confidence interval. Each row is for\n",
    "        one tidal constituent.\n",
    "    \n",
    "    \"\"\"\n",
    "        \n",
    "    # make a time variable in floating point days since a given epoch\n",
    "    time = mdates.date2num(ser.index.to_pydatetime())\n",
    "    \n",
    "    # make sure there are some sea level values\n",
    "    if not ser.isnull().all():\n",
    "    \n",
    "        # use UTide to run tidal analysis\n",
    "        coef = solve(\n",
    "            time, ser.values,   # input variables: time and sea level as numpy arrays\n",
    "            lat=latitude,       # latitude of tide gauge\n",
    "            nodal=False,       \n",
    "            trend=False,\n",
    "            method=\"ols\",\n",
    "            conf_int=\"linear\",\n",
    "            Rayleigh_min=1.0,\n",
    "            verbose=False       # no messages\n",
    "        )\n",
    "\n",
    "        # combine amplitudes and phases and their confidence interval in `numpy.Array`\n",
    "        data = np.c_[coef[\"A\"], coef[\"A_ci\"], coef[\"g\"], coef[\"g_ci\"]]\n",
    "        \n",
    "        # index\n",
    "        index = coef[\"name\"]\n",
    "    \n",
    "    # if `ser` only contains NaNs, return empty `pandas.DataFrame`\n",
    "    else:\n",
    "        data = None\n",
    "        index = None\n",
    "        \n",
    "    \n",
    "    # create output `pandas.DataFrame\n",
    "    df_out = pd.DataFrame(\n",
    "        data=data,\n",
    "        index=index,\n",
    "        columns=[\"A\", \"A_ci\", \"g\", \"g_ci\"]\n",
    "    )\n",
    "    \n",
    "    return df_out"
   ]
  },
  {
   "cell_type": "code",
   "execution_count": 239,
   "metadata": {},
   "outputs": [
    {
     "name": "stderr",
     "output_type": "stream",
     "text": [
      "/Users/dilemmajayne/opt/anaconda3/lib/python3.7/site-packages/utide/confidence.py:243: RuntimeWarning: invalid value encountered in sqrt\n",
      "  sig1, sig2 = ut_linci(Xu[c], Yu[c], np.sqrt(varXu), np.sqrt(varYu))\n"
     ]
    }
   ],
   "source": [
    "result = df[\"height\"].loc[\"1963\":\"2022\"].groupby(pd.Grouper(freq=\"M\")).apply(lambda x: tidal_analysis(x, lat))\n",
    "result.index.set_names([\"time\", \"constituent\"], inplace=True)\n",
    "\n",
    "ds = result.to_xarray()"
   ]
  },
  {
   "cell_type": "code",
   "execution_count": 240,
   "metadata": {},
   "outputs": [
    {
     "data": {
      "text/plain": [
       "[Text(0.5, 1.0, 'Annual M2 Tidal Amplitude'),\n",
       " Text(0, 0.5, 'M2 Tidal Amplitude [mm]')]"
      ]
     },
     "execution_count": 240,
     "metadata": {},
     "output_type": "execute_result"
    },
    {
     "data": {
      "image/png": "[encoded data removed]",
      "text/plain": [
       "<Figure size 1080x360 with 1 Axes>"
      ]
     },
     "metadata": {
      "needs_background": "light"
     },
     "output_type": "display_data"
    }
   ],
   "source": [
    "fig, ax = plt.subplots(1, 1, figsize=(15, 5))\n",
    "\n",
    "constituent = \"M2\"\n",
    "\n",
    "# monthly tidal amplitude and confidence intervals\n",
    "ax.errorbar(\n",
    "    ds[\"time\"].values, ds[\"A\"].sel(constituent=constituent),\n",
    "    yerr=ds[\"A_ci\"].sel(constituent=constituent),\n",
    "    fmt=\"o\"\n",
    ")\n",
    "\n",
    "# title and axis label\n",
    "ax.set(\n",
    "    title=f\"Annual {constituent} Tidal Amplitude\",\n",
    "    ylabel=f\"{constituent} Tidal Amplitude [mm]\",\n",
    ")"
   ]
  },
  {
   "cell_type": "markdown",
   "metadata": {},
   "source": [
    "The lowest R_min that gives a \"good\" result is 1.2 - appears the same as the figure plotting the UHSLC entire record with R_min=2"
   ]
  },
  {
   "cell_type": "code",
   "execution_count": 241,
   "metadata": {},
   "outputs": [],
   "source": [
    "def tidal_analysis(ser, latitude):\n",
    "    \"\"\" Wrapper function for tidal analsyis with UTide.\n",
    "\n",
    "    Parameters\n",
    "    ----------\n",
    "    ser : `pandas.Series`\n",
    "        Input sea level time seriesl.\n",
    "    lat : float\n",
    "        Latitude of tide gauge.\n",
    "\n",
    "    Returns\n",
    "    -------\n",
    "    df_out : `pandas.DataFrame\n",
    "        Tidal amplitudes and phases with confidence interval. Each row is for\n",
    "        one tidal constituent.\n",
    "    \n",
    "    \"\"\"\n",
    "        \n",
    "    # make a time variable in floating point days since a given epoch\n",
    "    time = mdates.date2num(ser.index.to_pydatetime())\n",
    "    \n",
    "    # make sure there are some sea level values\n",
    "    if not ser.isnull().all():\n",
    "    \n",
    "        # use UTide to run tidal analysis\n",
    "        coef = solve(\n",
    "            time, ser.values,   # input variables: time and sea level as numpy arrays\n",
    "            lat=latitude,       # latitude of tide gauge\n",
    "            nodal=False,       \n",
    "            trend=False,\n",
    "            method=\"ols\",\n",
    "            conf_int=\"linear\",\n",
    "            Rayleigh_min=1.2,\n",
    "            verbose=False       # no messages\n",
    "        )\n",
    "\n",
    "        # combine amplitudes and phases and their confidence interval in `numpy.Array`\n",
    "        data = np.c_[coef[\"A\"], coef[\"A_ci\"], coef[\"g\"], coef[\"g_ci\"]]\n",
    "        \n",
    "        # index\n",
    "        index = coef[\"name\"]\n",
    "    \n",
    "    # if `ser` only contains NaNs, return empty `pandas.DataFrame`\n",
    "    else:\n",
    "        data = None\n",
    "        index = None\n",
    "        \n",
    "    \n",
    "    # create output `pandas.DataFrame\n",
    "    df_out = pd.DataFrame(\n",
    "        data=data,\n",
    "        index=index,\n",
    "        columns=[\"A\", \"A_ci\", \"g\", \"g_ci\"]\n",
    "    )\n",
    "    \n",
    "    return df_out"
   ]
  },
  {
   "cell_type": "code",
   "execution_count": 242,
   "metadata": {},
   "outputs": [],
   "source": [
    "result = df[\"height\"].loc[\"1963\":\"2022\"].groupby(pd.Grouper(freq=\"M\")).apply(lambda x: tidal_analysis(x, lat))\n",
    "result.index.set_names([\"time\", \"constituent\"], inplace=True)\n",
    "\n",
    "ds = result.to_xarray()"
   ]
  },
  {
   "cell_type": "code",
   "execution_count": 245,
   "metadata": {},
   "outputs": [
    {
     "data": {
      "image/png": "[encoded data removed]",
      "text/plain": [
       "<Figure size 1080x360 with 1 Axes>"
      ]
     },
     "metadata": {
      "needs_background": "light"
     },
     "output_type": "display_data"
    }
   ],
   "source": [
    "fig, ax = plt.subplots(1, 1, figsize=(15, 5))\n",
    "\n",
    "constituent = \"M2\"\n",
    "\n",
    "# monthly tidal amplitude and confidence intervals\n",
    "ax.errorbar(\n",
    "    ds[\"time\"].values, ds[\"A\"].sel(constituent=constituent),\n",
    "    yerr=ds[\"A_ci\"].sel(constituent=constituent),\n",
    "    fmt=\"o\"\n",
    ")\n",
    "\n",
    "# title and axis label\n",
    "ax.set(\n",
    "    title=f\"Annual {constituent} Tidal Amplitude\",\n",
    "    ylabel=f\"{constituent} Tidal Amplitude [mm]\",\n",
    ")\n",
    "\n",
    "plt.savefig('nain_tides.tif')"
   ]
  },
  {
   "cell_type": "code",
   "execution_count": null,
   "metadata": {},
   "outputs": [],
   "source": []
  }
 ],
 "metadata": {
  "kernelspec": {
   "display_name": "Python 3",
   "language": "python",
   "name": "python3"
  },
  "language_info": {
   "codemirror_mode": {
    "name": "ipython",
    "version": 3
   },
   "file_extension": ".py",
   "mimetype": "text/x-python",
   "name": "python",
   "nbconvert_exporter": "python",
   "pygments_lexer": "ipython3",
   "version": "3.7.4"
  }
 },
 "nbformat": 4,
 "nbformat_minor": 4
}
